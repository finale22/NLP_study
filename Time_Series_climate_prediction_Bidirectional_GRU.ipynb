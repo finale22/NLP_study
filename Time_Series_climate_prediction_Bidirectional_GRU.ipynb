{
  "nbformat": 4,
  "nbformat_minor": 0,
  "metadata": {
    "colab": {
      "provenance": [],
      "gpuType": "T4"
    },
    "kernelspec": {
      "name": "python3",
      "display_name": "Python 3"
    },
    "language_info": {
      "name": "python"
    },
    "accelerator": "GPU"
  },
  "cells": [
    {
      "cell_type": "markdown",
      "source": [
        "# 1. 데이터 로드 및 확인"
      ],
      "metadata": {
        "id": "BDEunVPIWINc"
      }
    },
    {
      "cell_type": "code",
      "execution_count": 1,
      "metadata": {
        "colab": {
          "base_uri": "https://localhost:8080/"
        },
        "id": "OfmC775VVzuz",
        "outputId": "6bd16664-cc18-4982-cff3-3c40a4330ba2"
      },
      "outputs": [
        {
          "output_type": "stream",
          "name": "stdout",
          "text": [
            "Mounted at /content/drive/\n"
          ]
        }
      ],
      "source": [
        "from google.colab import drive\n",
        "drive.mount('/content/drive/')\n",
        "path = '/content/drive/MyDrive/DL/개인공부/jena_climate'"
      ]
    },
    {
      "cell_type": "code",
      "source": [
        "import os\n",
        "\n",
        "fname = os.path.join(path, 'jena_climate_2009_2016.csv')\n",
        "f = open(fname)\n",
        "data = f.read()\n",
        "f.close()\n",
        "\n",
        "lines = data.split('\\n')\n",
        "header = lines[0].split(',')\n",
        "lines = lines[1:]\n",
        "\n",
        "print(header)\n",
        "print(len(lines))"
      ],
      "metadata": {
        "colab": {
          "base_uri": "https://localhost:8080/"
        },
        "id": "7RM7Lbn8WGn2",
        "outputId": "b56808a1-2474-45a2-bdae-bb21937cb99e"
      },
      "execution_count": 2,
      "outputs": [
        {
          "output_type": "stream",
          "name": "stdout",
          "text": [
            "['\"Date Time\"', '\"p (mbar)\"', '\"T (degC)\"', '\"Tpot (K)\"', '\"Tdew (degC)\"', '\"rh (%)\"', '\"VPmax (mbar)\"', '\"VPact (mbar)\"', '\"VPdef (mbar)\"', '\"sh (g/kg)\"', '\"H2OC (mmol/mol)\"', '\"rho (g/m**3)\"', '\"wv (m/s)\"', '\"max. wv (m/s)\"', '\"wd (deg)\"']\n",
            "420451\n"
          ]
        }
      ]
    },
    {
      "cell_type": "markdown",
      "source": [
        "- 420,451 x 15 크기의 데이터\n",
        "- 420,451개의 타임스텝\n",
        "- 1개의 날짜 변수(Date Time)와 14개의 날씨 정보 변수"
      ],
      "metadata": {
        "id": "D2YRrAYzXdCG"
      }
    },
    {
      "cell_type": "code",
      "source": [
        "example_line = lines[0]\n",
        "print(example_line)\n",
        "\n",
        "example_split = example_line.split(',')[1:]\n",
        "print(example_split)\n",
        "\n",
        "example_dtype = type(example_split[0])\n",
        "print(example_dtype)"
      ],
      "metadata": {
        "colab": {
          "base_uri": "https://localhost:8080/"
        },
        "id": "RTxEKmpfaabV",
        "outputId": "9cda8492-41e0-4bac-d3fa-e9b772dca759"
      },
      "execution_count": 3,
      "outputs": [
        {
          "output_type": "stream",
          "name": "stdout",
          "text": [
            "01.01.2009 00:10:00,996.52,-8.02,265.40,-8.90,93.30,3.33,3.11,0.22,1.94,3.12,1307.75,1.03,1.75,152.30\n",
            "['996.52', '-8.02', '265.40', '-8.90', '93.30', '3.33', '3.11', '0.22', '1.94', '3.12', '1307.75', '1.03', '1.75', '152.30']\n",
            "<class 'str'>\n"
          ]
        }
      ]
    },
    {
      "cell_type": "markdown",
      "source": [
        "데이터를 Numpy array로 변환하기 위해 해야할 일\n",
        "1. 한 line 씩 읽어 날씨 정보에 해당하는 값인 1번 인덱스부터 끝까지 추출\n",
        "2. 날씨 정보가 원래 float 형이나 현재 str 형이므로 float 값으로 변환\n",
        "3. float형 날씨 정보로 구성되어있으며 크기는 14인 리스트를 420,451개 만들어 numpy array로 저장"
      ],
      "metadata": {
        "id": "5sEZjiXGbpr-"
      }
    },
    {
      "cell_type": "code",
      "source": [
        "# 전체 데이터를 numpy array로 변환\n",
        "import numpy as np\n",
        "\n",
        "float_data = np.zeros((len(lines), len(header) - 1))  # 420,451개의 행 x 14개의 날씨 정보 변수\n",
        "for i, line in enumerate(lines):\n",
        "    values = [float(x) for x in line.split(',')[1:]]\n",
        "    float_data[i, :] = values"
      ],
      "metadata": {
        "id": "7GvnwOdmXRY1"
      },
      "execution_count": 4,
      "outputs": []
    },
    {
      "cell_type": "code",
      "source": [
        "# 변환된 데이터 확인\n",
        "print(f\"한 line당 크기: {len(float_data[0])}\")\n",
        "print(f\"numpy array 변환 전 값: {lines[0].split(',')[1:]}\")\n",
        "print(f\"numpy array 변환 후 값: {[np.round(i, 2) for i in float_data[0]]}\")"
      ],
      "metadata": {
        "colab": {
          "base_uri": "https://localhost:8080/"
        },
        "id": "XvjvJUGicfwG",
        "outputId": "78a42870-f5ce-4774-f2fa-9f673987ae95"
      },
      "execution_count": 5,
      "outputs": [
        {
          "output_type": "stream",
          "name": "stdout",
          "text": [
            "한 line당 크기: 14\n",
            "numpy array 변환 전 값: ['996.52', '-8.02', '265.40', '-8.90', '93.30', '3.33', '3.11', '0.22', '1.94', '3.12', '1307.75', '1.03', '1.75', '152.30']\n",
            "numpy array 변환 후 값: [996.52, -8.02, 265.4, -8.9, 93.3, 3.33, 3.11, 0.22, 1.94, 3.12, 1307.75, 1.03, 1.75, 152.3]\n"
          ]
        }
      ]
    },
    {
      "cell_type": "code",
      "source": [
        "# 시계열 온도 그래프 그리기\n",
        "import matplotlib.pyplot as plt\n",
        "\n",
        "temp = float_data[:, 1] # 1번 컬럼이 섭씨 온도 값\n",
        "plt.plot(range(len(temp)), temp)\n",
        "plt.show()"
      ],
      "metadata": {
        "colab": {
          "base_uri": "https://localhost:8080/",
          "height": 434
        },
        "id": "qWOEvOAbclFF",
        "outputId": "02a1dfc6-6709-46c0-ba02-8ee7dcb607a4"
      },
      "execution_count": 6,
      "outputs": [
        {
          "output_type": "display_data",
          "data": {
            "text/plain": [
              "<Figure size 640x480 with 1 Axes>"
            ],
            "image/png": "[encoded data removed]"
          },
          "metadata": {}
        }
      ]
    },
    {
      "cell_type": "code",
      "source": [
        "# 10일 간 온도 그래프\n",
        "plt.plot(range(1440), temp[:1440]) # 하나의 행은 10분 단위의 값. 따라서 하루는 24 * 6 = 144행 씩. 144행이 10개, 즉 1440개의 행은 10일간의 기록\n",
        "plt.show()"
      ],
      "metadata": {
        "colab": {
          "base_uri": "https://localhost:8080/",
          "height": 430
        },
        "id": "YNsqi321eR_5",
        "outputId": "95f61754-adfb-4464-cf65-073f138f1870"
      },
      "execution_count": 7,
      "outputs": [
        {
          "output_type": "display_data",
          "data": {
            "text/plain": [
              "<Figure size 640x480 with 1 Axes>"
            ],
            "image/png": "[encoded data removed]"
          },
          "metadata": {}
        }
      ]
    },
    {
      "cell_type": "markdown",
      "source": [
        "- 10일 모두 영하의 온도\n",
        "- 4일부터 온도가 급격히 떨어지고 6일차에 최저 온도를 찍고는 다시 올라 영하 5도 ~ 영하 17도 부근을 왔다갔다 함."
      ],
      "metadata": {
        "id": "LYM6xi9PfdGm"
      }
    },
    {
      "cell_type": "markdown",
      "source": [
        "지난 몇 달간 데이터를 사용하여 다음 달의 평균 온도를 예측하는 것은 쉬운 편! 하지만 하루하루 데이터를 살펴보면 온도 변화가 매우 불안정.\n",
        "\n",
        "일자별 수준의 시계열 데이터를 예측할 수 있을까?"
      ],
      "metadata": {
        "id": "aa4Wft_qgKdl"
      }
    },
    {
      "cell_type": "markdown",
      "source": [
        "# 2. 데이터 전처리"
      ],
      "metadata": {
        "id": "vo2bJAhjg47b"
      }
    },
    {
      "cell_type": "markdown",
      "source": [
        "시계열 예측을 위한 데이터 전처리\n",
        "- lookback: 10일 전 (1440행 전)\n",
        "- steps: 6 (1시간마다 데이터 포인트 샘플링)\n",
        "- delay: 144 (24시간 후 데이터가 target)\n",
        "\n",
        "필요한 두 가지 작업\n",
        "- 신경망에 주입할 수 있는 형태로 데이터 전처리하기.\n",
        "    - 데이터가 이미 수치형이므로 추가적인 벡터화는 필요하지 않으나 각 시계열 특성의 범위가 다르므로 \"정규화\"하기\n",
        "- float_data 배열을 받아 과거 데이터의 배치와 미래 타깃 온도를 추출하는 generator 함수 만들기.\n",
        "    - 데이터가 10분 간의 타임스텝으로 이루어져 있으므로 중복이 많다. --> 모든 샘플을 각기 메모리에 저장하는 것은 낭비가 심하므로 대신 원본 데이터를 사용하여 그때그때 배치를 만들기."
      ],
      "metadata": {
        "id": "uMvSI3eLiIAz"
      }
    },
    {
      "cell_type": "code",
      "source": [
        "# 정규화\n",
        "# 정규화 방식: (x - mean) / std\n",
        "# train : valid : test = 200,000 : 100,000 : 120,451\n",
        "mean = float_data[:200000].mean(axis=0)\n",
        "float_data = float_data - mean\n",
        "std = float_data[:200000].std(axis=0)\n",
        "float_data = float_data / std"
      ],
      "metadata": {
        "id": "JIC3XxgFglvl"
      },
      "execution_count": 8,
      "outputs": []
    },
    {
      "cell_type": "code",
      "source": [
        "'''generator\n",
        "    반환: (samples, targets)\n",
        "        - (x, y) 튜플\n",
        "        - 반복적 반환을 위해 return 아닌 yield\n",
        "    매개변수\n",
        "        - data: 정규화한 부동 소수 데이터로 이루어진 원본 배열\n",
        "        - lookback: 거슬러 올라갈 타임스텝\n",
        "        - delay: target으로 사용할 미래 타임스텝\n",
        "        - min_index, max_index: 추출할 타임스텝의 범위를 지정하기 위한 data 배열 인덱스. 검증 데이터와 테스트 데이터 분리에 사용\n",
        "        - shuffle: 샘플을 섞을지, 시간 순서대로 추출할 지 결정\n",
        "        - batch_size: 배치의 샘플 수\n",
        "        - step: 데이터를 샘플링할 타임스텝 간격. 1시간에 하나의 데이터 포인트를 추출하기 위해 6으로 지정\n",
        "'''\n",
        "\n",
        "def generator(data, lookback, delay, min_index, max_index, shuffle=False, batch_size=128, step=6):\n",
        "    if max_index is None:\n",
        "        max_index = len(data) - delay - 1\n",
        "    i = min_index + lookback\n",
        "    while 1:\n",
        "        if shuffle:\n",
        "            rows = np.random.randint(min_index + lookback, max_index, size=batch_size)\n",
        "        else:\n",
        "            if i + batch_size >= max_index:\n",
        "                i = min_index + lookback\n",
        "            rows = np.arange(i, min(i + batch_size, max_index))\n",
        "            i += len(rows)\n",
        "        samples = np.zeros((len(rows), lookback // step, data.shape[-1]))\n",
        "        targets = np.zeros((len(rows),))\n",
        "        for j, row in enumerate(rows):\n",
        "            indices = range(rows[j] - lookback, rows[j], step)\n",
        "            samples[j] = data[indices]\n",
        "            targets[j] = data[rows[j] + delay][1]\n",
        "        yield samples, targets"
      ],
      "metadata": {
        "id": "IlqJm3wqnTMI"
      },
      "execution_count": 9,
      "outputs": []
    },
    {
      "cell_type": "code",
      "source": [
        "# train, validation, test generator\n",
        "lookback = 1440\n",
        "step = 6\n",
        "delay = 144\n",
        "batch_size = 128\n",
        "train_gen = generator(float_data, lookback, delay, 0, 200000, shuffle=True)\n",
        "val_gen = generator(float_data, lookback, delay, 200001, 300000)\n",
        "test_gen = generator(float_data, lookback, delay, 300001, None)\n",
        "\n",
        "val_steps = (300000 - 200001 - lookback) // batch_size # validation data를 순회하기 위해 val_gen에서 추출할 횟수\n",
        "test_steps = (len(float_data) - 300001 - lookback) // batch_size # test data를 순회하기 위해 test_gen에서 추출할 횟수"
      ],
      "metadata": {
        "id": "yn1YqKDsqOOT"
      },
      "execution_count": 10,
      "outputs": []
    },
    {
      "cell_type": "markdown",
      "source": [
        "# 3. 기준점"
      ],
      "metadata": {
        "id": "zTRsrBmorw48"
      }
    },
    {
      "cell_type": "markdown",
      "source": [
        "시계열 온도 데이터는 연속성이 있고 일자별로 주기성을 가진다고 볼 수 있다. (사실 이 데이터는 모델링하기 좋게 만들어진 데이터긴 하지만,  실제로는 데이터를 열어서 그래프를 그려보며 확인할 필요성이 있다. 이것도 GRU를 사용하여 모델링할 때 확인해보겠다.)\n",
        "따라서 상식 수준의 기준점은 현재와 24시간 후 온도는 동일하다고 예측을 하는 것이다. 이 방법을 Mean Absolute Error(수치 예측 평가 기준)로 평가해보겠다.\n",
        "\n",
        "### **적어도 현재와 24시간 후 온도가 동일하다고 예측한 MAE 보다는 딥러닝 모델을 이용한 예측 MAE가 더 낮아야 의미가 있다!**"
      ],
      "metadata": {
        "id": "cyosM5y-r2ZD"
      }
    },
    {
      "cell_type": "code",
      "source": [
        "# Mean Absolute Error 계산\n",
        "def evaluate_naive_method():\n",
        "    batch_maes = []\n",
        "    for step in range(val_steps):\n",
        "        samples, targets = next(val_gen)\n",
        "        preds = samples[:, -1, 1]\n",
        "        mae = np.mean(np.abs(preds - targets))\n",
        "        batch_maes.append(mae)\n",
        "    res = np.mean(batch_maes)\n",
        "    return res"
      ],
      "metadata": {
        "id": "1DAf32BNrHGo"
      },
      "execution_count": 11,
      "outputs": []
    },
    {
      "cell_type": "code",
      "source": [
        "standard_mae = evaluate_naive_method()\n",
        "print(standard_mae)"
      ],
      "metadata": {
        "colab": {
          "base_uri": "https://localhost:8080/"
        },
        "id": "JMceYlKBtG5_",
        "outputId": "6f95f72a-f5eb-4f75-a41c-320df6deff43"
      },
      "execution_count": 12,
      "outputs": [
        {
          "output_type": "stream",
          "name": "stdout",
          "text": [
            "0.2897359729905486\n"
          ]
        }
      ]
    },
    {
      "cell_type": "code",
      "source": [
        "# 섭씨 온도 기준 계산: mae * 표준 편차\n",
        "print(standard_mae * std[1])"
      ],
      "metadata": {
        "colab": {
          "base_uri": "https://localhost:8080/"
        },
        "id": "yOlUBttgtJB9",
        "outputId": "bd229dd1-0ae8-4516-95ce-c321ee3c10f5"
      },
      "execution_count": 13,
      "outputs": [
        {
          "output_type": "stream",
          "name": "stdout",
          "text": [
            "2.564887434980494\n"
          ]
        }
      ]
    },
    {
      "cell_type": "markdown",
      "source": [
        "온도 오차가 섭씨 2.56도 정도 나 오차가 상당히 크다."
      ],
      "metadata": {
        "id": "H6V7pOvPtjVs"
      }
    },
    {
      "cell_type": "markdown",
      "source": [
        "# 4. GRU"
      ],
      "metadata": {
        "id": "d-Vbf8S--Z4R"
      }
    },
    {
      "cell_type": "code",
      "source": [
        "from keras.models import Sequential\n",
        "from keras.layers import GRU, Dense\n",
        "from keras.optimizers import RMSprop\n",
        "\n",
        "model = Sequential()\n",
        "model.add(GRU(32, input_shape=(None, float_data.shape[-1])))\n",
        "model.add(Dense(1))\n",
        "\n",
        "model.compile(optimizer=RMSprop(), loss='mae')\n",
        "hist = model.fit_generator(train_gen, steps_per_epoch=500, epochs=40, validation_data=val_gen, validation_steps=val_steps)"
      ],
      "metadata": {
        "colab": {
          "base_uri": "https://localhost:8080/"
        },
        "id": "o3UbA8XG86fG",
        "outputId": "2f9a5f46-88e8-4cbe-ce16-aa2c87913323"
      },
      "execution_count": 14,
      "outputs": [
        {
          "output_type": "stream",
          "name": "stdout",
          "text": [
            "Epoch 1/40\n"
          ]
        },
        {
          "output_type": "stream",
          "name": "stderr",
          "text": [
            "<ipython-input-14-d0a0909c42c2>:10: UserWarning: `Model.fit_generator` is deprecated and will be removed in a future version. Please use `Model.fit`, which supports generators.\n",
            "  hist = model.fit_generator(train_gen, steps_per_epoch=500, epochs=40, validation_data=val_gen, validation_steps=val_steps)\n"
          ]
        },
        {
          "output_type": "stream",
          "name": "stdout",
          "text": [
            "500/500 [==============================] - 16s 28ms/step - loss: 0.3057 - val_loss: 0.2697\n",
            "Epoch 2/40\n",
            "500/500 [==============================] - 18s 36ms/step - loss: 0.2830 - val_loss: 0.2651\n",
            "Epoch 3/40\n",
            "500/500 [==============================] - 15s 29ms/step - loss: 0.2780 - val_loss: 0.2639\n",
            "Epoch 4/40\n",
            "500/500 [==============================] - 17s 33ms/step - loss: 0.2739 - val_loss: 0.2603\n",
            "Epoch 5/40\n",
            "500/500 [==============================] - 18s 35ms/step - loss: 0.2681 - val_loss: 0.2650\n",
            "Epoch 6/40\n",
            "500/500 [==============================] - 17s 33ms/step - loss: 0.2649 - val_loss: 0.2580\n",
            "Epoch 7/40\n",
            "500/500 [==============================] - 17s 35ms/step - loss: 0.2602 - val_loss: 0.2657\n",
            "Epoch 8/40\n",
            "500/500 [==============================] - 14s 27ms/step - loss: 0.2567 - val_loss: 0.2633\n",
            "Epoch 9/40\n",
            "500/500 [==============================] - 14s 28ms/step - loss: 0.2525 - val_loss: 0.2642\n",
            "Epoch 10/40\n",
            "500/500 [==============================] - 14s 28ms/step - loss: 0.2496 - val_loss: 0.2690\n",
            "Epoch 11/40\n",
            "500/500 [==============================] - 14s 29ms/step - loss: 0.2466 - val_loss: 0.2732\n",
            "Epoch 12/40\n",
            "500/500 [==============================] - 14s 27ms/step - loss: 0.2412 - val_loss: 0.2702\n",
            "Epoch 13/40\n",
            "500/500 [==============================] - 14s 27ms/step - loss: 0.2376 - val_loss: 0.2731\n",
            "Epoch 14/40\n",
            "500/500 [==============================] - 17s 33ms/step - loss: 0.2341 - val_loss: 0.2733\n",
            "Epoch 15/40\n",
            "500/500 [==============================] - 15s 29ms/step - loss: 0.2303 - val_loss: 0.2764\n",
            "Epoch 16/40\n",
            "500/500 [==============================] - 13s 27ms/step - loss: 0.2274 - val_loss: 0.2807\n",
            "Epoch 17/40\n",
            "500/500 [==============================] - 18s 36ms/step - loss: 0.2233 - val_loss: 0.2791\n",
            "Epoch 18/40\n",
            "500/500 [==============================] - 14s 28ms/step - loss: 0.2200 - val_loss: 0.2840\n",
            "Epoch 19/40\n",
            "500/500 [==============================] - 14s 28ms/step - loss: 0.2158 - val_loss: 0.2920\n",
            "Epoch 20/40\n",
            "500/500 [==============================] - 14s 28ms/step - loss: 0.2117 - val_loss: 0.2900\n",
            "Epoch 21/40\n",
            "500/500 [==============================] - 17s 34ms/step - loss: 0.2075 - val_loss: 0.2930\n",
            "Epoch 22/40\n",
            "500/500 [==============================] - 14s 27ms/step - loss: 0.2048 - val_loss: 0.2942\n",
            "Epoch 23/40\n",
            "500/500 [==============================] - 14s 27ms/step - loss: 0.2006 - val_loss: 0.2954\n",
            "Epoch 24/40\n",
            "500/500 [==============================] - 14s 27ms/step - loss: 0.1983 - val_loss: 0.2975\n",
            "Epoch 25/40\n",
            "500/500 [==============================] - 14s 29ms/step - loss: 0.1965 - val_loss: 0.2973\n",
            "Epoch 26/40\n",
            "500/500 [==============================] - 18s 35ms/step - loss: 0.1934 - val_loss: 0.2985\n",
            "Epoch 27/40\n",
            "500/500 [==============================] - 15s 30ms/step - loss: 0.1908 - val_loss: 0.3038\n",
            "Epoch 28/40\n",
            "500/500 [==============================] - 18s 36ms/step - loss: 0.1887 - val_loss: 0.3005\n",
            "Epoch 29/40\n",
            "500/500 [==============================] - 14s 28ms/step - loss: 0.1875 - val_loss: 0.3022\n",
            "Epoch 30/40\n",
            "500/500 [==============================] - 14s 28ms/step - loss: 0.1860 - val_loss: 0.3037\n",
            "Epoch 31/40\n",
            "500/500 [==============================] - 13s 27ms/step - loss: 0.1834 - val_loss: 0.3055\n",
            "Epoch 32/40\n",
            "500/500 [==============================] - 17s 33ms/step - loss: 0.1815 - val_loss: 0.3044\n",
            "Epoch 33/40\n",
            "500/500 [==============================] - 14s 28ms/step - loss: 0.1799 - val_loss: 0.3053\n",
            "Epoch 34/40\n",
            "500/500 [==============================] - 14s 27ms/step - loss: 0.1793 - val_loss: 0.3070\n",
            "Epoch 35/40\n",
            "500/500 [==============================] - 13s 27ms/step - loss: 0.1776 - val_loss: 0.3097\n",
            "Epoch 36/40\n",
            "500/500 [==============================] - 13s 27ms/step - loss: 0.1753 - val_loss: 0.3091\n",
            "Epoch 37/40\n",
            "500/500 [==============================] - 18s 36ms/step - loss: 0.1759 - val_loss: 0.3094\n",
            "Epoch 38/40\n",
            "500/500 [==============================] - 17s 33ms/step - loss: 0.1738 - val_loss: 0.3106\n",
            "Epoch 39/40\n",
            "500/500 [==============================] - 15s 29ms/step - loss: 0.1726 - val_loss: 0.3118\n",
            "Epoch 40/40\n",
            "500/500 [==============================] - 14s 27ms/step - loss: 0.1708 - val_loss: 0.3141\n"
          ]
        }
      ]
    },
    {
      "cell_type": "markdown",
      "source": [
        "# 5. Bidirectional GRU"
      ],
      "metadata": {
        "id": "LaX5k7jZBolT"
      }
    },
    {
      "cell_type": "code",
      "source": [
        "from keras.layers import Bidirectional\n",
        "\n",
        "model_bid = Sequential()\n",
        "model_bid.add(Bidirectional(GRU(32), input_shape=(None, float_data.shape[-1])))\n",
        "model_bid.add(Dense(1))\n",
        "model_bid.compile(optimizer=RMSprop(), loss='mae')\n",
        "hist_bid = model_bid.fit_generator(train_gen, steps_per_epoch=500, epochs=40, validation_data=val_gen, validation_steps=val_steps)"
      ],
      "metadata": {
        "id": "jkUZ5HloBnlE",
        "colab": {
          "base_uri": "https://localhost:8080/"
        },
        "outputId": "dc8bcdc7-7554-4984-e9d8-a249991c4d35"
      },
      "execution_count": 15,
      "outputs": [
        {
          "output_type": "stream",
          "name": "stdout",
          "text": [
            "Epoch 1/40\n"
          ]
        },
        {
          "output_type": "stream",
          "name": "stderr",
          "text": [
            "<ipython-input-15-e956db656485>:7: UserWarning: `Model.fit_generator` is deprecated and will be removed in a future version. Please use `Model.fit`, which supports generators.\n",
            "  hist_bid = model_bid.fit_generator(train_gen, steps_per_epoch=500, epochs=40, validation_data=val_gen, validation_steps=val_steps)\n"
          ]
        },
        {
          "output_type": "stream",
          "name": "stdout",
          "text": [
            "500/500 [==============================] - 23s 40ms/step - loss: 0.3074 - val_loss: 0.2702\n",
            "Epoch 2/40\n",
            "500/500 [==============================] - 18s 36ms/step - loss: 0.2786 - val_loss: 0.2653\n",
            "Epoch 3/40\n",
            "500/500 [==============================] - 21s 42ms/step - loss: 0.2710 - val_loss: 0.2674\n",
            "Epoch 4/40\n",
            "500/500 [==============================] - 18s 36ms/step - loss: 0.2662 - val_loss: 0.2710\n",
            "Epoch 5/40\n",
            "500/500 [==============================] - 19s 38ms/step - loss: 0.2613 - val_loss: 0.2686\n",
            "Epoch 6/40\n",
            "500/500 [==============================] - 18s 36ms/step - loss: 0.2578 - val_loss: 0.2629\n",
            "Epoch 7/40\n",
            "500/500 [==============================] - 18s 37ms/step - loss: 0.2518 - val_loss: 0.2737\n",
            "Epoch 8/40\n",
            "500/500 [==============================] - 20s 40ms/step - loss: 0.2449 - val_loss: 0.2789\n",
            "Epoch 9/40\n",
            "500/500 [==============================] - 18s 36ms/step - loss: 0.2397 - val_loss: 0.2829\n",
            "Epoch 10/40\n",
            "500/500 [==============================] - 19s 38ms/step - loss: 0.2349 - val_loss: 0.2789\n",
            "Epoch 11/40\n",
            "500/500 [==============================] - 18s 36ms/step - loss: 0.2283 - val_loss: 0.2796\n",
            "Epoch 12/40\n",
            "500/500 [==============================] - 19s 38ms/step - loss: 0.2218 - val_loss: 0.2847\n",
            "Epoch 13/40\n",
            "500/500 [==============================] - 18s 36ms/step - loss: 0.2173 - val_loss: 0.2903\n",
            "Epoch 14/40\n",
            "500/500 [==============================] - 19s 38ms/step - loss: 0.2115 - val_loss: 0.2961\n",
            "Epoch 15/40\n",
            "500/500 [==============================] - 18s 36ms/step - loss: 0.2073 - val_loss: 0.2942\n",
            "Epoch 16/40\n",
            "500/500 [==============================] - 19s 39ms/step - loss: 0.2011 - val_loss: 0.3055\n",
            "Epoch 17/40\n",
            "500/500 [==============================] - 19s 38ms/step - loss: 0.1966 - val_loss: 0.3018\n",
            "Epoch 18/40\n",
            "500/500 [==============================] - 22s 45ms/step - loss: 0.1921 - val_loss: 0.3109\n",
            "Epoch 19/40\n",
            "500/500 [==============================] - 20s 40ms/step - loss: 0.1886 - val_loss: 0.3229\n",
            "Epoch 20/40\n",
            "500/500 [==============================] - 21s 42ms/step - loss: 0.1843 - val_loss: 0.3170\n",
            "Epoch 21/40\n",
            "500/500 [==============================] - 20s 39ms/step - loss: 0.1796 - val_loss: 0.3170\n",
            "Epoch 22/40\n",
            "500/500 [==============================] - 20s 39ms/step - loss: 0.1762 - val_loss: 0.3253\n",
            "Epoch 23/40\n",
            "500/500 [==============================] - 18s 36ms/step - loss: 0.1734 - val_loss: 0.3191\n",
            "Epoch 24/40\n",
            "500/500 [==============================] - 19s 39ms/step - loss: 0.1674 - val_loss: 0.3243\n",
            "Epoch 25/40\n",
            "500/500 [==============================] - 18s 36ms/step - loss: 0.1659 - val_loss: 0.3240\n",
            "Epoch 26/40\n",
            "500/500 [==============================] - 19s 39ms/step - loss: 0.1633 - val_loss: 0.3278\n",
            "Epoch 27/40\n",
            "500/500 [==============================] - 19s 38ms/step - loss: 0.1596 - val_loss: 0.3278\n",
            "Epoch 28/40\n",
            "500/500 [==============================] - 19s 38ms/step - loss: 0.1583 - val_loss: 0.3304\n",
            "Epoch 29/40\n",
            "500/500 [==============================] - 18s 36ms/step - loss: 0.1548 - val_loss: 0.3339\n",
            "Epoch 30/40\n",
            "500/500 [==============================] - 18s 36ms/step - loss: 0.1521 - val_loss: 0.3386\n",
            "Epoch 31/40\n",
            "500/500 [==============================] - 19s 38ms/step - loss: 0.1506 - val_loss: 0.3349\n",
            "Epoch 32/40\n",
            "500/500 [==============================] - 18s 36ms/step - loss: 0.1490 - val_loss: 0.3348\n",
            "Epoch 33/40\n",
            "500/500 [==============================] - 21s 42ms/step - loss: 0.1460 - val_loss: 0.3396\n",
            "Epoch 34/40\n",
            "500/500 [==============================] - 18s 36ms/step - loss: 0.1440 - val_loss: 0.3363\n",
            "Epoch 35/40\n",
            "500/500 [==============================] - 19s 38ms/step - loss: 0.1425 - val_loss: 0.3350\n",
            "Epoch 36/40\n",
            "500/500 [==============================] - 19s 38ms/step - loss: 0.1409 - val_loss: 0.3391\n",
            "Epoch 37/40\n",
            "500/500 [==============================] - 19s 38ms/step - loss: 0.1399 - val_loss: 0.3394\n",
            "Epoch 38/40\n",
            "500/500 [==============================] - 18s 36ms/step - loss: 0.1371 - val_loss: 0.3384\n",
            "Epoch 39/40\n",
            "500/500 [==============================] - 19s 38ms/step - loss: 0.1369 - val_loss: 0.3406\n",
            "Epoch 40/40\n",
            "500/500 [==============================] - 18s 37ms/step - loss: 0.1353 - val_loss: 0.3412\n"
          ]
        }
      ]
    },
    {
      "cell_type": "markdown",
      "source": [
        "# 6. 그래프"
      ],
      "metadata": {
        "id": "jGHqzQG9i72o"
      }
    },
    {
      "cell_type": "code",
      "source": [
        "import matplotlib.pyplot as plt\n",
        "\n",
        "epochs = range(1, 41)\n",
        "\n",
        "history = hist.history\n",
        "loss = history['loss']\n",
        "val_loss = history['val_loss']\n",
        "\n",
        "history_bid = hist_bid.history\n",
        "loss_bid = history_bid['loss']\n",
        "val_loss_bid = history_bid['val_loss']\n",
        "\n",
        "plt.plot(epochs, loss, 'bo', label='GRU Training loss')\n",
        "plt.plot(epochs, val_loss, 'b', label='GRU Validation loss')\n",
        "plt.plot(epochs, loss_bid, 'ro', label='Bi-GRU Training loss')\n",
        "plt.plot(epochs, val_loss_bid, 'r', label='Bi-GRU Validation loss')\n",
        "plt.title('Training and validation loss')\n",
        "plt.legend()\n",
        "plt.show()"
      ],
      "metadata": {
        "id": "vC3Q5rPfBP6a",
        "colab": {
          "base_uri": "https://localhost:8080/",
          "height": 452
        },
        "outputId": "d644e6de-0c17-42d9-f36f-db87b541af50"
      },
      "execution_count": 16,
      "outputs": [
        {
          "output_type": "display_data",
          "data": {
            "text/plain": [
              "<Figure size 640x480 with 1 Axes>"
            ],
            "image/png": "[encoded data removed]"
          },
          "metadata": {}
        }
      ]
    },
    {
      "cell_type": "markdown",
      "source": [
        "# 7. 성능"
      ],
      "metadata": {
        "id": "7JM4J_gClpM5"
      }
    },
    {
      "cell_type": "code",
      "source": [
        "y_pred = model.predict_generator(test_gen, steps=test_steps)\n",
        "y_test = float_data[:, 1][300001:300001+len(pred)]"
      ],
      "metadata": {
        "colab": {
          "base_uri": "https://localhost:8080/"
        },
        "id": "9icsvWw9ppEp",
        "outputId": "c5a9d2d9-d2df-4f52-c828-faedfac22ba1"
      },
      "execution_count": 39,
      "outputs": [
        {
          "output_type": "stream",
          "name": "stderr",
          "text": [
            "<ipython-input-39-3291f3af40ee>:1: UserWarning: `Model.predict_generator` is deprecated and will be removed in a future version. Please use `Model.predict`, which supports generators.\n",
            "  y_pred = model.predict_generator(test_gen, steps=test_steps)\n"
          ]
        }
      ]
    },
    {
      "cell_type": "code",
      "source": [
        "y_pred_bid = model_bid.predict_generator(test_gen, steps=test_steps)"
      ],
      "metadata": {
        "colab": {
          "base_uri": "https://localhost:8080/"
        },
        "id": "3J-2zYEury7D",
        "outputId": "a9c4989d-3454-4317-929c-143eeeb8e98d"
      },
      "execution_count": 40,
      "outputs": [
        {
          "output_type": "stream",
          "name": "stderr",
          "text": [
            "<ipython-input-40-778bad1bb001>:1: UserWarning: `Model.predict_generator` is deprecated and will be removed in a future version. Please use `Model.predict`, which supports generators.\n",
            "  y_pred_bid = model_bid.predict_generator(test_gen, steps=test_steps)\n"
          ]
        }
      ]
    },
    {
      "cell_type": "code",
      "source": [
        "from sklearn.metrics import mean_absolute_error\n",
        "\n",
        "print(f\"GRU: {mean_absolute_error(y_test, y_pred)}\")\n",
        "print(f\"Bi-GRU: {mean_absolute_error(y_test, y_pred_bid)}\")"
      ],
      "metadata": {
        "colab": {
          "base_uri": "https://localhost:8080/"
        },
        "id": "qeXVKjS_lqX7",
        "outputId": "2ffeebe7-0e51-481f-b318-a53460b815d8"
      },
      "execution_count": 41,
      "outputs": [
        {
          "output_type": "stream",
          "name": "stdout",
          "text": [
            "GRU: 0.6557845382864063\n",
            "Bi-GRU: 0.6702906587484468\n"
          ]
        }
      ]
    },
    {
      "cell_type": "markdown",
      "source": [
        "- 온도 예측 시 양방향 GRU를 사용했을 때보다 일반 GRU를 사용했을 때, 테스트 데이터에 대해 MAE 값이 조금 더 낮다.\n",
        "\n",
        "- 온도 예측 문제의 경우 시간 순서가 매우 중요하다. 양방향 GRU는 일반 GRU와 달리 시간 순서와 **시간 반대 순서**를 모두 이용하므로 성능이 더 낮게 나온다. 따라서 온도 예측 문제같이 최근 정보가 오래 전 정보보다 훨씬 더 중요한 경우와 언어 이해와 같이 시간 순서도 중요하지만 결정적이지 않은 경우에 따라 모델을 설계해야 한다."
      ],
      "metadata": {
        "id": "t8yarFo3sRb8"
      }
    }
  ]
}