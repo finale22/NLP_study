{
  "nbformat": 4,
  "nbformat_minor": 0,
  "metadata": {
    "colab": {
      "provenance": [],
      "authorship_tag": "ABX9TyPdwe8Bz7ICYO7LmcMM4HBt",
      "include_colab_link": true
    },
    "kernelspec": {
      "name": "python3",
      "display_name": "Python 3"
    },
    "language_info": {
      "name": "python"
    }
  },
  "cells": [
    {
      "cell_type": "markdown",
      "metadata": {
        "id": "view-in-github",
        "colab_type": "text"
      },
      "source": [
        "<a href=\"https://colab.research.google.com/github/finale22/NLP_study/blob/main/one_hot_encoding_of_words.ipynb\" target=\"_parent\"><img src=\"https://colab.research.google.com/assets/colab-badge.svg\" alt=\"Open In Colab\"/></a>"
      ]
    },
    {
      "cell_type": "markdown",
      "source": [
        "# 1. one-hot encoding 구현"
      ],
      "metadata": {
        "id": "CjhomikLmqmz"
      }
    },
    {
      "cell_type": "code",
      "execution_count": 40,
      "metadata": {
        "id": "vUbEl0QOeA03"
      },
      "outputs": [],
      "source": [
        "import numpy as np"
      ]
    },
    {
      "cell_type": "code",
      "source": [
        "samples = [\"AlphaGo has intelligized through deep learning.\", \"Recurrent neural networks are a kind of deep learning algorithm.\"]"
      ],
      "metadata": {
        "id": "t6KYH1yUeQAR"
      },
      "execution_count": 41,
      "outputs": []
    },
    {
      "cell_type": "code",
      "source": [
        "# 데이터에 있는 모든 토큰의 인덱스 구축\n",
        "token_index = {}"
      ],
      "metadata": {
        "id": "ulPiIM3VelIF"
      },
      "execution_count": 42,
      "outputs": []
    },
    {
      "cell_type": "code",
      "source": [
        "for sample in samples:\n",
        "    for word in sample.split(): # 단어 토큰화\n",
        "        if word not in token_index:\n",
        "            token_index[word] = len(token_index) + 1 # 단어마다 고유 인덱스 할당, 인덱스 0은 사용하지 않음.\n",
        "\n",
        "token_index"
      ],
      "metadata": {
        "colab": {
          "base_uri": "https://localhost:8080/"
        },
        "id": "xmS8JQXies2N",
        "outputId": "2124ed45-065f-496c-cfc9-4760fde66d7f"
      },
      "execution_count": 43,
      "outputs": [
        {
          "output_type": "execute_result",
          "data": {
            "text/plain": [
              "{'AlphaGo': 1,\n",
              " 'has': 2,\n",
              " 'intelligized': 3,\n",
              " 'through': 4,\n",
              " 'deep': 5,\n",
              " 'learning.': 6,\n",
              " 'Recurrent': 7,\n",
              " 'neural': 8,\n",
              " 'networks': 9,\n",
              " 'are': 10,\n",
              " 'a': 11,\n",
              " 'kind': 12,\n",
              " 'of': 13,\n",
              " 'learning': 14,\n",
              " 'algorithm.': 15}"
            ]
          },
          "metadata": {},
          "execution_count": 43
        }
      ]
    },
    {
      "cell_type": "code",
      "source": [
        "max_length = 10 # 각 샘플(여기서는 한 문장)에서 max_length까지의 단어만 사용\n",
        "results = np.zeros(shape=(len(samples),\n",
        "                          max_length,\n",
        "                          max(token_index.values()) + 1)) # 결과를 저장할 넘파이 배열, max_length x max(token_index.values() + 1) 배열이 len(samples)개 있는 3차원 배열"
      ],
      "metadata": {
        "id": "dn0E2IcrfmGS"
      },
      "execution_count": 44,
      "outputs": []
    },
    {
      "cell_type": "code",
      "source": [
        "for i, sample in enumerate(samples):\n",
        "    for j, word in list(enumerate(sample.split()))[:max_length]:\n",
        "        index = token_index.get(word)\n",
        "        results[i, j, index] = 1.\n",
        "\n",
        "print(results)"
      ],
      "metadata": {
        "colab": {
          "base_uri": "https://localhost:8080/"
        },
        "id": "AEANT_FRiX23",
        "outputId": "b3016ec7-93ae-4fc6-db42-123566010ee8"
      },
      "execution_count": 45,
      "outputs": [
        {
          "output_type": "stream",
          "name": "stdout",
          "text": [
            "[[[0. 1. 0. 0. 0. 0. 0. 0. 0. 0. 0. 0. 0. 0. 0. 0.]\n",
            "  [0. 0. 1. 0. 0. 0. 0. 0. 0. 0. 0. 0. 0. 0. 0. 0.]\n",
            "  [0. 0. 0. 1. 0. 0. 0. 0. 0. 0. 0. 0. 0. 0. 0. 0.]\n",
            "  [0. 0. 0. 0. 1. 0. 0. 0. 0. 0. 0. 0. 0. 0. 0. 0.]\n",
            "  [0. 0. 0. 0. 0. 1. 0. 0. 0. 0. 0. 0. 0. 0. 0. 0.]\n",
            "  [0. 0. 0. 0. 0. 0. 1. 0. 0. 0. 0. 0. 0. 0. 0. 0.]\n",
            "  [0. 0. 0. 0. 0. 0. 0. 0. 0. 0. 0. 0. 0. 0. 0. 0.]\n",
            "  [0. 0. 0. 0. 0. 0. 0. 0. 0. 0. 0. 0. 0. 0. 0. 0.]\n",
            "  [0. 0. 0. 0. 0. 0. 0. 0. 0. 0. 0. 0. 0. 0. 0. 0.]\n",
            "  [0. 0. 0. 0. 0. 0. 0. 0. 0. 0. 0. 0. 0. 0. 0. 0.]]\n",
            "\n",
            " [[0. 0. 0. 0. 0. 0. 0. 1. 0. 0. 0. 0. 0. 0. 0. 0.]\n",
            "  [0. 0. 0. 0. 0. 0. 0. 0. 1. 0. 0. 0. 0. 0. 0. 0.]\n",
            "  [0. 0. 0. 0. 0. 0. 0. 0. 0. 1. 0. 0. 0. 0. 0. 0.]\n",
            "  [0. 0. 0. 0. 0. 0. 0. 0. 0. 0. 1. 0. 0. 0. 0. 0.]\n",
            "  [0. 0. 0. 0. 0. 0. 0. 0. 0. 0. 0. 1. 0. 0. 0. 0.]\n",
            "  [0. 0. 0. 0. 0. 0. 0. 0. 0. 0. 0. 0. 1. 0. 0. 0.]\n",
            "  [0. 0. 0. 0. 0. 0. 0. 0. 0. 0. 0. 0. 0. 1. 0. 0.]\n",
            "  [0. 0. 0. 0. 0. 1. 0. 0. 0. 0. 0. 0. 0. 0. 0. 0.]\n",
            "  [0. 0. 0. 0. 0. 0. 0. 0. 0. 0. 0. 0. 0. 0. 1. 0.]\n",
            "  [0. 0. 0. 0. 0. 0. 0. 0. 0. 0. 0. 0. 0. 0. 0. 1.]]]\n"
          ]
        }
      ]
    },
    {
      "cell_type": "markdown",
      "source": [
        "# 2. one-hot encoding Tokenizer로 구현"
      ],
      "metadata": {
        "id": "AVTOG_B2nLca"
      }
    },
    {
      "cell_type": "code",
      "source": [
        "from keras.preprocessing.text import Tokenizer"
      ],
      "metadata": {
        "id": "TpvfLNGJknWh"
      },
      "execution_count": 46,
      "outputs": []
    },
    {
      "cell_type": "code",
      "source": [
        "samples = [\"AlphaGo has intelligized through deep learning.\", \"Recurrent neural networks are a kind of deep learning algorithm.\"]"
      ],
      "metadata": {
        "id": "exnub13CnT-C"
      },
      "execution_count": 47,
      "outputs": []
    },
    {
      "cell_type": "code",
      "source": [
        "tokenizer = Tokenizer(num_words=1000) # 가장 빈도가 높은 1000개의 단어만 선택하도록 Tokenizer 객체 생성\n",
        "tokenizer.fit_on_texts(samples) # 단어 인덱스 구축\n",
        "\n",
        "sequences = tokenizer.texts_to_sequences(samples) # 문자열을 정수 인덱스 리스트로 변환\n",
        "\n",
        "sequences"
      ],
      "metadata": {
        "colab": {
          "base_uri": "https://localhost:8080/"
        },
        "id": "1m3cP6vZnWVp",
        "outputId": "1c169806-d0a0-44de-a8c4-a4e5e44ac788"
      },
      "execution_count": 48,
      "outputs": [
        {
          "output_type": "execute_result",
          "data": {
            "text/plain": [
              "[[3, 4, 5, 6, 1, 2], [7, 8, 9, 10, 11, 12, 13, 1, 2, 14]]"
            ]
          },
          "metadata": {},
          "execution_count": 48
        }
      ]
    },
    {
      "cell_type": "code",
      "source": [
        "one_hot_results = tokenizer.texts_to_matrix(samples, mode='binary') # 원-핫 이진 벡터\n",
        "\n",
        "one_hot_results"
      ],
      "metadata": {
        "colab": {
          "base_uri": "https://localhost:8080/"
        },
        "id": "fzi0WpwhnzeU",
        "outputId": "7d1f0208-cadc-418e-acf7-8e015e3ff017"
      },
      "execution_count": 49,
      "outputs": [
        {
          "output_type": "execute_result",
          "data": {
            "text/plain": [
              "array([[0., 1., 1., ..., 0., 0., 0.],\n",
              "       [0., 1., 1., ..., 0., 0., 0.]])"
            ]
          },
          "metadata": {},
          "execution_count": 49
        }
      ]
    },
    {
      "cell_type": "code",
      "source": [
        "word_index = tokenizer.word_index # 계산된 단어 인덱스 구하기\n",
        "\n",
        "word_index"
      ],
      "metadata": {
        "colab": {
          "base_uri": "https://localhost:8080/"
        },
        "id": "_6tudgU2oBNv",
        "outputId": "d5ba8771-9005-4dd7-d4e9-a8f7a136e64d"
      },
      "execution_count": 50,
      "outputs": [
        {
          "output_type": "execute_result",
          "data": {
            "text/plain": [
              "{'deep': 1,\n",
              " 'learning': 2,\n",
              " 'alphago': 3,\n",
              " 'has': 4,\n",
              " 'intelligized': 5,\n",
              " 'through': 6,\n",
              " 'recurrent': 7,\n",
              " 'neural': 8,\n",
              " 'networks': 9,\n",
              " 'are': 10,\n",
              " 'a': 11,\n",
              " 'kind': 12,\n",
              " 'of': 13,\n",
              " 'algorithm': 14}"
            ]
          },
          "metadata": {},
          "execution_count": 50
        }
      ]
    }
  ]
}