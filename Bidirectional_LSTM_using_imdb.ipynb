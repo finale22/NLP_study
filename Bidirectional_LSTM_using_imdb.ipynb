{
  "nbformat": 4,
  "nbformat_minor": 0,
  "metadata": {
    "colab": {
      "provenance": [],
      "gpuType": "T4"
    },
    "kernelspec": {
      "name": "python3",
      "display_name": "Python 3"
    },
    "language_info": {
      "name": "python"
    },
    "accelerator": "GPU"
  },
  "cells": [
    {
      "cell_type": "markdown",
      "source": [
        "# 1. Normal Sequence"
      ],
      "metadata": {
        "id": "iWydf2XwVS99"
      }
    },
    {
      "cell_type": "code",
      "execution_count": 1,
      "metadata": {
        "id": "RUb0qVpMH3hh"
      },
      "outputs": [],
      "source": [
        "from keras.datasets import imdb\n",
        "from keras.preprocessing.sequence import pad_sequences\n",
        "from keras.models import Sequential\n",
        "from keras.layers import Embedding, Bidirectional, LSTM, Dense"
      ]
    },
    {
      "cell_type": "code",
      "source": [
        "max_features = 10000\n",
        "maxlen = 500\n",
        "\n",
        "(x_train, y_train), (x_test, y_test) = imdb.load_data(num_words=max_features) # 시퀀스 데이터 로드"
      ],
      "metadata": {
        "colab": {
          "base_uri": "https://localhost:8080/"
        },
        "id": "rmUHIRwDUgQh",
        "outputId": "76459c1a-d735-4ec2-c432-c99cebfb5c89"
      },
      "execution_count": 2,
      "outputs": [
        {
          "output_type": "stream",
          "name": "stdout",
          "text": [
            "Downloading data from https://storage.googleapis.com/tensorflow/tf-keras-datasets/imdb.npz\n",
            "17464789/17464789 [==============================] - 2s 0us/step\n"
          ]
        }
      ]
    },
    {
      "cell_type": "code",
      "source": [
        "# 패딩\n",
        "\n",
        "x_train_norm = pad_sequences(x_train, maxlen=maxlen)\n",
        "x_test_norm = pad_sequences(x_test, maxlen=maxlen)"
      ],
      "metadata": {
        "id": "Liv1wd0ZUtzZ"
      },
      "execution_count": 3,
      "outputs": []
    },
    {
      "cell_type": "code",
      "source": [
        "# 모델 설계\n",
        "\n",
        "model_norm = Sequential()\n",
        "model_norm.add(Embedding(max_features, 32))\n",
        "model_norm.add(LSTM(32))\n",
        "model_norm.add(Dense(1, activation='sigmoid'))\n",
        "model_norm.compile(optimizer='rmsprop', loss='binary_crossentropy', metrics=['acc'])\n",
        "\n",
        "model_norm.summary()"
      ],
      "metadata": {
        "colab": {
          "base_uri": "https://localhost:8080/"
        },
        "id": "rX-JGUDfWYs0",
        "outputId": "2cd920eb-2abd-4a78-a684-52afef073b36"
      },
      "execution_count": 4,
      "outputs": [
        {
          "output_type": "stream",
          "name": "stdout",
          "text": [
            "Model: \"sequential\"\n",
            "_________________________________________________________________\n",
            " Layer (type)                Output Shape              Param #   \n",
            "=================================================================\n",
            " embedding (Embedding)       (None, None, 32)          320000    \n",
            "                                                                 \n",
            " lstm (LSTM)                 (None, 32)                8320      \n",
            "                                                                 \n",
            " dense (Dense)               (None, 1)                 33        \n",
            "                                                                 \n",
            "=================================================================\n",
            "Total params: 328353 (1.25 MB)\n",
            "Trainable params: 328353 (1.25 MB)\n",
            "Non-trainable params: 0 (0.00 Byte)\n",
            "_________________________________________________________________\n"
          ]
        }
      ]
    },
    {
      "cell_type": "code",
      "source": [
        "# 학습\n",
        "\n",
        "hist_norm = model_norm.fit(x_train_norm, y_train, epochs=10, batch_size=128, validation_split=0.2)"
      ],
      "metadata": {
        "colab": {
          "base_uri": "https://localhost:8080/"
        },
        "id": "WgHsDKe3U1xW",
        "outputId": "b3b5787f-12b0-4580-ec78-c11cc9ddcc8f"
      },
      "execution_count": 5,
      "outputs": [
        {
          "output_type": "stream",
          "name": "stdout",
          "text": [
            "Epoch 1/10\n",
            "157/157 [==============================] - 23s 127ms/step - loss: 0.5920 - acc: 0.6707 - val_loss: 0.4946 - val_acc: 0.7802\n",
            "Epoch 2/10\n",
            "157/157 [==============================] - 15s 95ms/step - loss: 0.3561 - acc: 0.8540 - val_loss: 0.4692 - val_acc: 0.8364\n",
            "Epoch 3/10\n",
            "157/157 [==============================] - 11s 71ms/step - loss: 0.2750 - acc: 0.8910 - val_loss: 0.3442 - val_acc: 0.8618\n",
            "Epoch 4/10\n",
            "157/157 [==============================] - 10s 66ms/step - loss: 0.2308 - acc: 0.9129 - val_loss: 0.2827 - val_acc: 0.8860\n",
            "Epoch 5/10\n",
            "157/157 [==============================] - 8s 50ms/step - loss: 0.2059 - acc: 0.9227 - val_loss: 0.2933 - val_acc: 0.8816\n",
            "Epoch 6/10\n",
            "157/157 [==============================] - 7s 44ms/step - loss: 0.1853 - acc: 0.9309 - val_loss: 0.4114 - val_acc: 0.8246\n",
            "Epoch 7/10\n",
            "157/157 [==============================] - 7s 44ms/step - loss: 0.1705 - acc: 0.9398 - val_loss: 0.3158 - val_acc: 0.8792\n",
            "Epoch 8/10\n",
            "157/157 [==============================] - 6s 37ms/step - loss: 0.1501 - acc: 0.9463 - val_loss: 0.3057 - val_acc: 0.8760\n",
            "Epoch 9/10\n",
            "157/157 [==============================] - 6s 38ms/step - loss: 0.1402 - acc: 0.9525 - val_loss: 0.4871 - val_acc: 0.8646\n",
            "Epoch 10/10\n",
            "157/157 [==============================] - 5s 33ms/step - loss: 0.1304 - acc: 0.9550 - val_loss: 0.3298 - val_acc: 0.8596\n"
          ]
        }
      ]
    },
    {
      "cell_type": "markdown",
      "source": [
        "# 2. Reversed Sequence"
      ],
      "metadata": {
        "id": "aTOi3evSX9JL"
      }
    },
    {
      "cell_type": "code",
      "source": [
        "# 시퀀스 뒤집기\n",
        "x_train_rev = [x[::-1] for x in x_train]\n",
        "x_test_rev = [x[::-1] for x in x_test]"
      ],
      "metadata": {
        "id": "E1B51h7HX8fu"
      },
      "execution_count": 6,
      "outputs": []
    },
    {
      "cell_type": "code",
      "source": [
        "# 패딩\n",
        "x_train_rev = pad_sequences(x_train, maxlen=maxlen)\n",
        "x_test_rev = pad_sequences(x_test, maxlen=maxlen)"
      ],
      "metadata": {
        "id": "1ULdjZanYO5N"
      },
      "execution_count": 7,
      "outputs": []
    },
    {
      "cell_type": "code",
      "source": [
        "# 모델 설계\n",
        "\n",
        "model_rev = Sequential()\n",
        "model_rev.add(Embedding(max_features, 32))\n",
        "model_rev.add(LSTM(32))\n",
        "model_rev.add(Dense(1, activation='sigmoid'))\n",
        "model_rev.compile(optimizer='rmsprop', loss='binary_crossentropy', metrics=['acc'])\n",
        "\n",
        "model_rev.summary()"
      ],
      "metadata": {
        "colab": {
          "base_uri": "https://localhost:8080/"
        },
        "id": "2PzhlaFDYW7c",
        "outputId": "43a9b282-b6fd-4060-9fbc-aaa226eda5ba"
      },
      "execution_count": 8,
      "outputs": [
        {
          "output_type": "stream",
          "name": "stdout",
          "text": [
            "Model: \"sequential_1\"\n",
            "_________________________________________________________________\n",
            " Layer (type)                Output Shape              Param #   \n",
            "=================================================================\n",
            " embedding_1 (Embedding)     (None, None, 32)          320000    \n",
            "                                                                 \n",
            " lstm_1 (LSTM)               (None, 32)                8320      \n",
            "                                                                 \n",
            " dense_1 (Dense)             (None, 1)                 33        \n",
            "                                                                 \n",
            "=================================================================\n",
            "Total params: 328353 (1.25 MB)\n",
            "Trainable params: 328353 (1.25 MB)\n",
            "Non-trainable params: 0 (0.00 Byte)\n",
            "_________________________________________________________________\n"
          ]
        }
      ]
    },
    {
      "cell_type": "code",
      "source": [
        "# 학습\n",
        "\n",
        "hist_rev = model_rev.fit(x_train_rev, y_train, epochs=10, batch_size=128, validation_split=0.2)"
      ],
      "metadata": {
        "colab": {
          "base_uri": "https://localhost:8080/"
        },
        "id": "fdQCEjEiYjGd",
        "outputId": "b1208483-fd47-4f02-c1e1-af3a3d73dee2"
      },
      "execution_count": 9,
      "outputs": [
        {
          "output_type": "stream",
          "name": "stdout",
          "text": [
            "Epoch 1/10\n",
            "157/157 [==============================] - 17s 93ms/step - loss: 0.5915 - acc: 0.6779 - val_loss: 0.4191 - val_acc: 0.8360\n",
            "Epoch 2/10\n",
            "157/157 [==============================] - 12s 74ms/step - loss: 0.3485 - acc: 0.8575 - val_loss: 0.3440 - val_acc: 0.8584\n",
            "Epoch 3/10\n",
            "157/157 [==============================] - 10s 65ms/step - loss: 0.2676 - acc: 0.8978 - val_loss: 0.2827 - val_acc: 0.8874\n",
            "Epoch 4/10\n",
            "157/157 [==============================] - 7s 42ms/step - loss: 0.2288 - acc: 0.9127 - val_loss: 0.3344 - val_acc: 0.8820\n",
            "Epoch 5/10\n",
            "157/157 [==============================] - 6s 40ms/step - loss: 0.1997 - acc: 0.9272 - val_loss: 0.3266 - val_acc: 0.8660\n",
            "Epoch 6/10\n",
            "157/157 [==============================] - 5s 32ms/step - loss: 0.1778 - acc: 0.9367 - val_loss: 0.3158 - val_acc: 0.8802\n",
            "Epoch 7/10\n",
            "157/157 [==============================] - 6s 37ms/step - loss: 0.1651 - acc: 0.9415 - val_loss: 0.3120 - val_acc: 0.8816\n",
            "Epoch 8/10\n",
            "157/157 [==============================] - 5s 33ms/step - loss: 0.1491 - acc: 0.9485 - val_loss: 0.3885 - val_acc: 0.8696\n",
            "Epoch 9/10\n",
            "157/157 [==============================] - 5s 31ms/step - loss: 0.1382 - acc: 0.9517 - val_loss: 0.3180 - val_acc: 0.8710\n",
            "Epoch 10/10\n",
            "157/157 [==============================] - 4s 28ms/step - loss: 0.1200 - acc: 0.9590 - val_loss: 0.4255 - val_acc: 0.8528\n"
          ]
        }
      ]
    },
    {
      "cell_type": "markdown",
      "source": [
        "# 3. Bidirectional LSTM"
      ],
      "metadata": {
        "id": "wtZhLTn5YqB-"
      }
    },
    {
      "cell_type": "code",
      "source": [
        "# 패딩\n",
        "\n",
        "x_train_bid = pad_sequences(x_train, maxlen=maxlen)\n",
        "x_test_bid = pad_sequences(x_test, maxlen=maxlen)"
      ],
      "metadata": {
        "id": "-3Moa_RuYuhE"
      },
      "execution_count": 10,
      "outputs": []
    },
    {
      "cell_type": "code",
      "source": [
        "# 모델 설계\n",
        "\n",
        "model_bid = Sequential()\n",
        "model_bid.add(Embedding(max_features, 32))\n",
        "model_bid.add(Bidirectional(LSTM(32)))\n",
        "model_bid.add(Dense(1, activation='sigmoid'))\n",
        "model_bid.compile(optimizer='rmsprop', loss='binary_crossentropy', metrics=['acc'])\n",
        "\n",
        "model_bid.summary()"
      ],
      "metadata": {
        "colab": {
          "base_uri": "https://localhost:8080/"
        },
        "id": "BjJU-mKJY4CG",
        "outputId": "ce98e916-7905-4642-effb-ce106415114f"
      },
      "execution_count": 12,
      "outputs": [
        {
          "output_type": "stream",
          "name": "stdout",
          "text": [
            "Model: \"sequential_3\"\n",
            "_________________________________________________________________\n",
            " Layer (type)                Output Shape              Param #   \n",
            "=================================================================\n",
            " embedding_3 (Embedding)     (None, None, 32)          320000    \n",
            "                                                                 \n",
            " bidirectional (Bidirection  (None, 64)                16640     \n",
            " al)                                                             \n",
            "                                                                 \n",
            " dense_2 (Dense)             (None, 1)                 65        \n",
            "                                                                 \n",
            "=================================================================\n",
            "Total params: 336705 (1.28 MB)\n",
            "Trainable params: 336705 (1.28 MB)\n",
            "Non-trainable params: 0 (0.00 Byte)\n",
            "_________________________________________________________________\n"
          ]
        }
      ]
    },
    {
      "cell_type": "code",
      "source": [
        "# 학습\n",
        "\n",
        "hist_bid = model_bid.fit(x_train_bid, y_train, epochs=10, batch_size=128, validation_split=0.2)"
      ],
      "metadata": {
        "colab": {
          "base_uri": "https://localhost:8080/"
        },
        "id": "ki7zHI1EZHsE",
        "outputId": "129256b8-43c7-43ba-d106-14e8c32e8f72"
      },
      "execution_count": 13,
      "outputs": [
        {
          "output_type": "stream",
          "name": "stdout",
          "text": [
            "Epoch 1/10\n",
            "157/157 [==============================] - 20s 103ms/step - loss: 0.6337 - acc: 0.6237 - val_loss: 0.5117 - val_acc: 0.7424\n",
            "Epoch 2/10\n",
            "157/157 [==============================] - 13s 83ms/step - loss: 0.4048 - acc: 0.8330 - val_loss: 0.3438 - val_acc: 0.8588\n",
            "Epoch 3/10\n",
            "157/157 [==============================] - 11s 67ms/step - loss: 0.2978 - acc: 0.8834 - val_loss: 0.4527 - val_acc: 0.8386\n",
            "Epoch 4/10\n",
            "157/157 [==============================] - 10s 62ms/step - loss: 0.2519 - acc: 0.9042 - val_loss: 0.3120 - val_acc: 0.8672\n",
            "Epoch 5/10\n",
            "157/157 [==============================] - 9s 57ms/step - loss: 0.2214 - acc: 0.9183 - val_loss: 0.3851 - val_acc: 0.8456\n",
            "Epoch 6/10\n",
            "157/157 [==============================] - 9s 55ms/step - loss: 0.1914 - acc: 0.9301 - val_loss: 0.2997 - val_acc: 0.8774\n",
            "Epoch 7/10\n",
            "157/157 [==============================] - 7s 47ms/step - loss: 0.1745 - acc: 0.9374 - val_loss: 0.3459 - val_acc: 0.8812\n",
            "Epoch 8/10\n",
            "157/157 [==============================] - 6s 41ms/step - loss: 0.1558 - acc: 0.9441 - val_loss: 0.3177 - val_acc: 0.8722\n",
            "Epoch 9/10\n",
            "157/157 [==============================] - 7s 45ms/step - loss: 0.1425 - acc: 0.9492 - val_loss: 0.3272 - val_acc: 0.8778\n",
            "Epoch 10/10\n",
            "157/157 [==============================] - 7s 42ms/step - loss: 0.1363 - acc: 0.9528 - val_loss: 0.3721 - val_acc: 0.8830\n"
          ]
        }
      ]
    },
    {
      "cell_type": "markdown",
      "source": [
        "# 4. 그래프"
      ],
      "metadata": {
        "id": "tfQOrQDSZTGY"
      }
    },
    {
      "cell_type": "code",
      "source": [
        "import matplotlib.pyplot as plt\n",
        "\n",
        "\n",
        "epochs = range(1, 11)\n",
        "\n",
        "history_norm = hist_norm.history\n",
        "loss_norm = history_norm['loss']\n",
        "val_loss_norm = history_norm['val_loss']\n",
        "\n",
        "\n",
        "history_rev = hist_rev.history\n",
        "loss_rev = history_rev['loss']\n",
        "val_loss_rev = history_rev['val_loss']\n",
        "\n",
        "\n",
        "history_bid = hist_bid.history\n",
        "loss_bid = history_bid['loss']\n",
        "val_loss_bid = history_bid['val_loss']\n",
        "\n",
        "\n",
        "plt.plot(epochs, loss_norm, 'bo', label='Normal training loss')\n",
        "plt.plot(epochs, val_loss_norm, 'b', label='Normal validation loss')\n",
        "plt.plot(epochs, loss_rev, 'go', label='Reverse training loss')\n",
        "plt.plot(epochs, val_loss_rev, 'g', label='Reverse validation loss')\n",
        "plt.plot(epochs, loss_bid, 'ro', label='Bidirection training loss')\n",
        "plt.plot(epochs, val_loss_bid, 'r', label='Bidirection validation loss')\n",
        "plt.title('Traininig and validation loss')\n",
        "plt.legend()\n",
        "plt.show()"
      ],
      "metadata": {
        "colab": {
          "base_uri": "https://localhost:8080/",
          "height": 452
        },
        "id": "Bi__9nn4W92l",
        "outputId": "e464a29c-14f8-4d99-96df-e19c2b1b817f"
      },
      "execution_count": 16,
      "outputs": [
        {
          "output_type": "display_data",
          "data": {
            "text/plain": [
              "<Figure size 640x480 with 1 Axes>"
            ],
            "image/png": "[encoded data removed]"
          },
          "metadata": {}
        }
      ]
    },
    {
      "cell_type": "markdown",
      "source": [
        "# 5. 성능"
      ],
      "metadata": {
        "id": "y80Vv0SqaQbV"
      }
    },
    {
      "cell_type": "code",
      "source": [
        "import numpy as np\n",
        "\n",
        "performance_norm = model_norm.evaluate(x_test_norm, y_test)\n",
        "performance_rev = model_rev.evaluate(x_test_rev, y_test)\n",
        "performance_bid = model_bid.evaluate(x_test_bid, y_test)\n",
        "\n",
        "print(f\"LSTM with normal sequence: {np.round(performance_norm[1], 3)}\")\n",
        "print(f\"LSTM with reversed sequence: {np.round(performance_rev[1], 3)}\")\n",
        "print(f\"Bidirectional LSTM with normal sequence: {np.round(performance_bid[1], 3)}\")"
      ],
      "metadata": {
        "colab": {
          "base_uri": "https://localhost:8080/"
        },
        "id": "zhAp4VZJaRy5",
        "outputId": "f8344dc0-612b-4d01-f15e-d564dd628c1f"
      },
      "execution_count": 17,
      "outputs": [
        {
          "output_type": "stream",
          "name": "stdout",
          "text": [
            "782/782 [==============================] - 7s 9ms/step - loss: 0.3469 - acc: 0.8551\n",
            "782/782 [==============================] - 7s 9ms/step - loss: 0.4715 - acc: 0.8354\n",
            "782/782 [==============================] - 11s 15ms/step - loss: 0.4280 - acc: 0.8665\n",
            "LSTM with normal sequence: 0.855\n",
            "LSTM with reversed sequence: 0.835\n",
            "Bidirectional LSTM with normal sequence: 0.867\n"
          ]
        }
      ]
    },
    {
      "cell_type": "markdown",
      "source": [
        "- 양방향 LSTM을 사용했을 때 일반적인 LSTM, 시퀀스를 뒤집어 학습한 LSTM 모델보다 정확도가 조금 더 높다.\n",
        "\n",
        "- 하지만 양방향 LSTM 모델이 타 모델보다 조금 더 일찍 과대적합 되는 경향 -> 양방향 순환층이 단방향 LSTM보다 모델 파라미터가 2배(정방향, 역방향) 많기 때문\n",
        "\n",
        "- 규제와 함께 양방향 순환 층을 사용하는 것이 단방향 순환 층을 사용하는 것보다 더 효과적일 것"
      ],
      "metadata": {
        "id": "ixwFdTh4dX1j"
      }
    }
  ]
}