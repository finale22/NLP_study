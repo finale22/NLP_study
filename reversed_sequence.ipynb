{
  "nbformat": 4,
  "nbformat_minor": 0,
  "metadata": {
    "colab": {
      "provenance": [],
      "gpuType": "T4"
    },
    "kernelspec": {
      "name": "python3",
      "display_name": "Python 3"
    },
    "language_info": {
      "name": "python"
    },
    "accelerator": "GPU"
  },
  "cells": [
    {
      "cell_type": "markdown",
      "source": [
        "# 1. 거꾸로 뒤집은 시퀀스로 LSTM 학습"
      ],
      "metadata": {
        "id": "VNach9qiCNTx"
      }
    },
    {
      "cell_type": "code",
      "execution_count": 1,
      "metadata": {
        "id": "PXYHBF4l-5-n"
      },
      "outputs": [],
      "source": [
        "from keras.datasets import imdb\n",
        "from keras.preprocessing.sequence import pad_sequences\n",
        "from keras.layers import Embedding, LSTM, Dense\n",
        "from keras.models import Sequential"
      ]
    },
    {
      "cell_type": "code",
      "source": [
        "max_features = 10000 # 특성 사용 개수\n",
        "maxlen = 500         # 사용할 텍스트 길이 (가장 빈도 높은 10000개의 단어만 사용)\n",
        "(x_train, y_train), (x_test, y_test) = imdb.load_data(num_words=max_features) # 데이터 로드"
      ],
      "metadata": {
        "colab": {
          "base_uri": "https://localhost:8080/"
        },
        "id": "5Z6whvLEA5_Z",
        "outputId": "2e1741d5-5096-46ea-f807-2a300141e417"
      },
      "execution_count": 2,
      "outputs": [
        {
          "output_type": "stream",
          "name": "stdout",
          "text": [
            "Downloading data from https://storage.googleapis.com/tensorflow/tf-keras-datasets/imdb.npz\n",
            "17464789/17464789 [==============================] - 2s 0us/step\n"
          ]
        }
      ]
    },
    {
      "cell_type": "code",
      "source": [
        "# 시퀀스 뒤집기\n",
        "x_train = [x[::-1] for x in x_train]\n",
        "x_test = [x[::-1] for x in x_test]"
      ],
      "metadata": {
        "id": "PTVaJ2ycBRNh"
      },
      "execution_count": 3,
      "outputs": []
    },
    {
      "cell_type": "code",
      "source": [
        "# 패딩\n",
        "x_train = pad_sequences(x_train, maxlen=maxlen)\n",
        "x_test = pad_sequences(x_test, maxlen=maxlen)"
      ],
      "metadata": {
        "id": "Y6kV7Q7YBiGc"
      },
      "execution_count": 4,
      "outputs": []
    },
    {
      "cell_type": "code",
      "source": [
        "# 모델 설계\n",
        "model = Sequential()\n",
        "model.add(Embedding(max_features, 128))\n",
        "model.add(LSTM(32))\n",
        "model.add(Dense(1, activation='sigmoid'))\n",
        "\n",
        "model.compile(optimizer='rmsprop', loss='binary_crossentropy', metrics=['acc'])\n",
        "model.summary()"
      ],
      "metadata": {
        "colab": {
          "base_uri": "https://localhost:8080/"
        },
        "id": "_o8oV0KGBtLo",
        "outputId": "196150b7-0cc1-4b0a-ff53-661fcc72a013"
      },
      "execution_count": 5,
      "outputs": [
        {
          "output_type": "stream",
          "name": "stdout",
          "text": [
            "Model: \"sequential\"\n",
            "_________________________________________________________________\n",
            " Layer (type)                Output Shape              Param #   \n",
            "=================================================================\n",
            " embedding (Embedding)       (None, None, 128)         1280000   \n",
            "                                                                 \n",
            " lstm (LSTM)                 (None, 32)                20608     \n",
            "                                                                 \n",
            " dense (Dense)               (None, 1)                 33        \n",
            "                                                                 \n",
            "=================================================================\n",
            "Total params: 1300641 (4.96 MB)\n",
            "Trainable params: 1300641 (4.96 MB)\n",
            "Non-trainable params: 0 (0.00 Byte)\n",
            "_________________________________________________________________\n"
          ]
        }
      ]
    },
    {
      "cell_type": "code",
      "source": [
        "# 학습\n",
        "hist = model.fit(x_train, y_train, epochs=10, batch_size=128, validation_split=0.2)"
      ],
      "metadata": {
        "colab": {
          "base_uri": "https://localhost:8080/"
        },
        "id": "zfMVu5pmCGv8",
        "outputId": "fbbcce3e-df34-4978-fc18-6756e401385f"
      },
      "execution_count": 6,
      "outputs": [
        {
          "output_type": "stream",
          "name": "stdout",
          "text": [
            "Epoch 1/10\n",
            "157/157 [==============================] - 16s 81ms/step - loss: 0.6103 - acc: 0.6542 - val_loss: 0.4087 - val_acc: 0.8326\n",
            "Epoch 2/10\n",
            "157/157 [==============================] - 10s 61ms/step - loss: 0.3925 - acc: 0.8411 - val_loss: 0.3450 - val_acc: 0.8640\n",
            "Epoch 3/10\n",
            "157/157 [==============================] - 8s 53ms/step - loss: 0.3123 - acc: 0.8805 - val_loss: 0.3455 - val_acc: 0.8796\n",
            "Epoch 4/10\n",
            "157/157 [==============================] - 7s 43ms/step - loss: 0.2756 - acc: 0.8990 - val_loss: 0.3280 - val_acc: 0.8780\n",
            "Epoch 5/10\n",
            "157/157 [==============================] - 6s 39ms/step - loss: 0.2373 - acc: 0.9126 - val_loss: 0.3332 - val_acc: 0.8804\n",
            "Epoch 6/10\n",
            "157/157 [==============================] - 6s 36ms/step - loss: 0.2128 - acc: 0.9236 - val_loss: 0.3635 - val_acc: 0.8652\n",
            "Epoch 7/10\n",
            "157/157 [==============================] - 5s 32ms/step - loss: 0.1989 - acc: 0.9289 - val_loss: 0.3495 - val_acc: 0.8740\n",
            "Epoch 8/10\n",
            "157/157 [==============================] - 5s 32ms/step - loss: 0.1781 - acc: 0.9366 - val_loss: 0.3644 - val_acc: 0.8816\n",
            "Epoch 9/10\n",
            "157/157 [==============================] - 5s 32ms/step - loss: 0.1656 - acc: 0.9438 - val_loss: 0.3546 - val_acc: 0.8750\n",
            "Epoch 10/10\n",
            "157/157 [==============================] - 4s 28ms/step - loss: 0.1439 - acc: 0.9524 - val_loss: 0.4078 - val_acc: 0.8308\n"
          ]
        }
      ]
    },
    {
      "cell_type": "code",
      "source": [
        "import matplotlib.pyplot as plt\n",
        "\n",
        "history = hist.history\n",
        "loss = history['loss']\n",
        "val_loss = history['val_loss']\n",
        "epochs = range(1, len(loss)+1)\n",
        "\n",
        "plt.plot(epochs, loss, 'bo', label='Training loss')\n",
        "plt.plot(epochs, val_loss, 'b', label='Validation loss')\n",
        "plt.title('Traininig and validation loss')\n",
        "plt.legend()\n",
        "plt.show()"
      ],
      "metadata": {
        "colab": {
          "base_uri": "https://localhost:8080/",
          "height": 452
        },
        "id": "RkQQnr-TCf50",
        "outputId": "9c0f7c59-9ca4-4f2f-b6a2-7ade89494312"
      },
      "execution_count": 7,
      "outputs": [
        {
          "output_type": "display_data",
          "data": {
            "text/plain": [
              "<Figure size 640x480 with 1 Axes>"
            ],
            "image/png": "[encoded data removed]"
          },
          "metadata": {}
        }
      ]
    },
    {
      "cell_type": "markdown",
      "source": [
        "- 텍스트 데이터에 대해 시퀀스를 거꾸로 뒤집어 LSTM을 학습시킨 결과와 시퀀스를 거꾸로 뒤집지 않고 LSTM을 학습시킨 결과의 Validation accuracy와 Validation loss가 비슷하다. 즉, 텍스트 데이터셋의 순서를 뒤집어 처리하는 것이 시간 순서대로 처리하는 것과 거의 동일하게 잘 작동한다.\n",
        "- 이러한 결과는 언어를 이해하는 데 **단어의 순서가 중요하지만 결정적이지 않다**는 가정을 뒷받침한다.\n",
        "- 하지만 순서가 중요한 경우, 예를 들어 온도 예측 문제의 경우에는 시퀀스를 뒤집는다면 뒤집지 않은 경우보다 성능이 더 좋지 않을 것이다. 예를 들어 기본적인 GRU layer는 과거보다 최근 내용을 잘 기억한다. 최근에 가까운 데이터일수록 오래된 데이터보다 예측에 유용할 것인데 이를 뒤집어 버리면 기본적인 GRU layer보다 성능이 더 좋지 않을 것이다."
      ],
      "metadata": {
        "id": "m-LCM92CDk14"
      }
    }
  ]
}