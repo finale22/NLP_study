{
  "nbformat": 4,
  "nbformat_minor": 0,
  "metadata": {
    "colab": {
      "provenance": [],
      "gpuType": "T4",
      "mount_file_id": "1lWCOaE_0n8Idn4XE_IrwDCp_HHowfriR",
      "authorship_tag": "ABX9TyOjl//QvtmLFnLrsUkaJSRk",
      "include_colab_link": true
    },
    "kernelspec": {
      "name": "python3",
      "display_name": "Python 3"
    },
    "language_info": {
      "name": "python"
    },
    "accelerator": "GPU"
  },
  "cells": [
    {
      "cell_type": "markdown",
      "metadata": {
        "id": "view-in-github",
        "colab_type": "text"
      },
      "source": [
        "<a href=\"https://colab.research.google.com/github/finale22/NLP_study/blob/main/Text_Classification_Basic.ipynb\" target=\"_parent\"><img src=\"https://colab.research.google.com/assets/colab-badge.svg\" alt=\"Open In Colab\"/></a>"
      ]
    },
    {
      "cell_type": "markdown",
      "source": [
        "# 1. 데이터 로드 및 전처리"
      ],
      "metadata": {
        "id": "6ZpzA1NvLAET"
      }
    },
    {
      "cell_type": "code",
      "execution_count": null,
      "metadata": {
        "id": "5rdUESCaE_2G"
      },
      "outputs": [],
      "source": [
        "from google.colab import drive\n",
        "drive.mount('/content/drive/MyDrive/DL/')"
      ]
    },
    {
      "cell_type": "code",
      "source": [
        "# IMDB 원본 데이터 전처리\n",
        "import os\n",
        "\n",
        "imdb_dir = './aclImdb'\n",
        "train_dir = os.path.join(imdb_dir, 'train')\n",
        "\n",
        "labels = [] # y\n",
        "texts = []  # x\n",
        "\n",
        "for label_type in ['neg', 'pos']:\n",
        "    dir_name = os.path.join(train_dir, label_type)                 # 분류 카테고리 별 폴더 경로\n",
        "    if label_type == 'neg':\n",
        "        label = 0\n",
        "    else:\n",
        "        label = 1\n",
        "    for fname in os.listdir(dir_name):\n",
        "        if fname[-4:] == '.txt':\n",
        "            f = open(os.path.join(dir_name, fname), encoding='utf8') # 파일을 하나씩 읽기\n",
        "            texts.append(f.read())                                   # texts 리스트에 추가\n",
        "            f.close()\n",
        "            labels.append(label)                                     # labels 리스트에 추가"
      ],
      "metadata": {
        "id": "Q_hctcaZVgvQ"
      },
      "execution_count": null,
      "outputs": []
    },
    {
      "cell_type": "code",
      "source": [
        "print(\"text data\")\n",
        "for i in range(5):\n",
        "    print(f\"{texts[i]}: {labels[i]}\")"
      ],
      "metadata": {
        "id": "EA2VvSU0tKX6"
      },
      "execution_count": null,
      "outputs": []
    },
    {
      "cell_type": "markdown",
      "source": [
        "# 2. 데이터 토큰화"
      ],
      "metadata": {
        "id": "h5CgATCrqTAV"
      }
    },
    {
      "cell_type": "code",
      "source": [
        "# 텍스트 데이터 토큰화\n",
        "from keras.preprocessing.text import Tokenizer\n",
        "from keras.preprocessing.sequence import pad_sequence\n",
        "import numpy as np\n",
        "\n",
        "maxlen = 100                     # 토큰 개수 맞추기\n",
        "training_samples = 200           # 훈련 샘플 개수\n",
        "validation_samples = 10000       # 검증 샘플 개수\n",
        "max_words = 10000                # 데이터셋에서 가장 빈도 높은 10000개의 단어만 사용\n",
        "\n",
        "tokenizer = Tokenizer(num_words=max_words)\n",
        "tokenizer.fit_on_texts(texts)\n",
        "sequences = tokenizer.texts_to_sequences(texts)\n",
        "\n",
        "word_index = tokenizer.word_index\n",
        "print(f\"고유 토큰 개수: {len(word_index)}\")\n",
        "\n",
        "data = pad_sequence(sequences, maxlen=maxlen) # padding\n",
        "labels = np.asarray(labels)\n",
        "print(f\"데이터 크기: {data.shape}\")\n",
        "print(f\"레이블 크기: {labels.shape}\")\n",
        "\n",
        "indices = np.arange(data.shape[0]) # 데이터 분할 전 섞기 위한 작업\n",
        "np.random.shuffle(indices)         # 섞기\n",
        "data = data[indices]\n",
        "labels = labels[indices]\n",
        "\n",
        "x_train = data[:training_samples]\n",
        "y_train = label[:training_samples]\n",
        "x_val = data[training_samples:training_samples + validation_samples]\n",
        "y_val = label[training_samples:training_samples + validation_samples]"
      ],
      "metadata": {
        "id": "gvT9OvDUqU1d"
      },
      "execution_count": null,
      "outputs": []
    },
    {
      "cell_type": "markdown",
      "source": [
        "# 3. GloVe 임베딩 전처리"
      ],
      "metadata": {
        "id": "XVf2M47_xGyV"
      }
    },
    {
      "cell_type": "code",
      "source": [
        "glove_dir = './'\n",
        "\n",
        "embeddings_index = {}\n",
        "f = open(os.path.join(glove_dir, 'glove.6B.100d.txt'), encodin='utf8')\n",
        "for line in f:\n",
        "    values = line.split()\n",
        "    word = value[0]\n",
        "    coefs = np.asarray(values[1:], dtype='float32')\n",
        "    embeddings_index[word] = coefs\n",
        "f.close()\n",
        "\n",
        "print(f\"단어 벡터 개수: {len(embeddings_index)}\")"
      ],
      "metadata": {
        "id": "28oWmc8CxVRP"
      },
      "execution_count": null,
      "outputs": []
    },
    {
      "cell_type": "code",
      "source": [
        "# GloVe 단어 임베딩 행렬 준비\n",
        "embedding_dim = 100\n",
        "\n",
        "embedding_matrix = np.zeros((max_words, embedding_dim))\n",
        "for word, i in word_index.items():\n",
        "    if i < max_words:\n",
        "        embedding_vector = embeddings_index.get(word)\n",
        "        if embedding_vector is not None:\n",
        "            embedding_matrix[i] = embedding_vector # 임베딩 인덱스에 없는 단어는 모두 0으로 처리"
      ],
      "metadata": {
        "id": "GN4IkmP76q7I"
      },
      "execution_count": null,
      "outputs": []
    },
    {
      "cell_type": "markdown",
      "source": [
        "# 4. 모델 정의"
      ],
      "metadata": {
        "id": "5ANraGMM51dP"
      }
    },
    {
      "cell_type": "code",
      "source": [
        "from keras.models import Sequential\n",
        "from keras.layers import Embedding, Flatten, Dense\n",
        "\n",
        "model = Sequential()\n",
        "model.add(Embedding(max_words, embedding_dim, input_length=maxlen))\n",
        "model.add(Flatten())\n",
        "model.add(Dense(32, activation='relu'))\n",
        "model.add(Dense(1, activation='sigmoid'))\n",
        "model.summary()"
      ],
      "metadata": {
        "id": "YhHSL4bU5zrm"
      },
      "execution_count": null,
      "outputs": []
    },
    {
      "cell_type": "markdown",
      "source": [
        "# 5. 모델에 GloVe 임베딩 로드"
      ],
      "metadata": {
        "id": "qCmJgGyo-v9N"
      }
    },
    {
      "cell_type": "code",
      "source": [
        "# 사전 훈련된 단어 임베딩을 Embedding layer에 로드\n",
        "model.layers[0].set_weights([embedding_matrix])\n",
        "model.layers[0].trainable = False"
      ],
      "metadata": {
        "id": "kHJKwXds-y9d"
      },
      "execution_count": null,
      "outputs": []
    },
    {
      "cell_type": "markdown",
      "source": [
        "# 6. 모델 학습"
      ],
      "metadata": {
        "id": "C98KHQrg_YSs"
      }
    },
    {
      "cell_type": "code",
      "source": [
        "model.compile(optimizer='rmsprop', loss='binary_crossentropy', metrics=['acc'])\n",
        "hist = model.fit(x_train, y_train, epochs=10, batch_size=32, validation_data=(x_val, y_val))\n",
        "model.save_weights('pre_trained_glove_model.h5')"
      ],
      "metadata": {
        "id": "DtVOdGfw_aZS"
      },
      "execution_count": null,
      "outputs": []
    },
    {
      "cell_type": "code",
      "source": [
        "# 그래프\n",
        "import matplotlib.pyplot as plt\n",
        "\n",
        "history = hist.history\n",
        "acc = history['acc']\n",
        "val_acc = history['val_acc']\n",
        "loss = history['loss']\n",
        "val_loss = history['val_loss']\n",
        "\n",
        "epochs = range(1, len(acc) + 1)\n",
        "\n",
        "plt.plot(epochs, acc, 'bo', label='Training acc')\n",
        "plt.plot(epochs, val_acc, 'b', label='Validation acc')\n",
        "plt.title('Training and validation accuracy')\n",
        "plt.legend()\n",
        "\n",
        "plt.figure()\n",
        "\n",
        "plt.plot(epochs, loss, 'bo', label='Training loss')\n",
        "plt.plot(epochs, val_loss, 'b', label='Validation loss')\n",
        "plt.title('Training and validation loss')\n",
        "plt.legend()\n",
        "\n",
        "plt.show()"
      ],
      "metadata": {
        "id": "WhipIvtBd8-H"
      },
      "execution_count": null,
      "outputs": []
    },
    {
      "cell_type": "markdown",
      "source": [
        "# 7. 사전 훈련된 단어 임베딩을 사용하지 않고 모델 학습"
      ],
      "metadata": {
        "id": "3drW9lv5ipwv"
      }
    },
    {
      "cell_type": "code",
      "source": [
        "# 사전 훈련된 단어 임베딩을 사용하지 않고 같은 모델 학습하기\n",
        "# 사전 훈련된 단어 임베딩을 사용하여 학습하는 것과 사용하지 않고 학습하는 것을 비교\n",
        "from keras.backends import clear_session\n",
        "from keras.models import Sequential\n",
        "from keras.layers import Embedding, Flatten, Dense\n",
        "\n",
        "clear_session()\n",
        "model = Sequential()\n",
        "model.add(Embedding(max_words, embedding_dim, input_length=maxlen))\n",
        "model.add(Flatten())\n",
        "model.add(Dense(32, activation='relu'))\n",
        "model.add(Dense(1, activation='sigmoid'))\n",
        "model.summary()"
      ],
      "metadata": {
        "id": "gn6pC252h9cv"
      },
      "execution_count": null,
      "outputs": []
    },
    {
      "cell_type": "code",
      "source": [
        "model.compile(optimizer='rmsprop', loss='binary_crossentropy', metrics=['acc'])\n",
        "hist = model.fit(x_train, y_train, epochs=10, batch_size=32, validation_data=(x_val, y_val))\n",
        "model.save_weights('pre_trained_glove_model.h5')"
      ],
      "metadata": {
        "id": "fe-TBGa7igzp"
      },
      "execution_count": null,
      "outputs": []
    },
    {
      "cell_type": "code",
      "source": [
        "# 그래프\n",
        "import matplotlib.pyplot as plt\n",
        "\n",
        "history = hist.history\n",
        "acc = history['acc']\n",
        "val_acc = history['val_acc']\n",
        "loss = history['loss']\n",
        "val_loss = history['val_loss']\n",
        "\n",
        "epochs = range(1, len(acc) + 1)\n",
        "\n",
        "plt.plot(epochs, acc, 'bo', label='Training acc')\n",
        "plt.plot(epochs, val_acc, 'b', label='Validation acc')\n",
        "plt.title('Training and validation accuracy')\n",
        "plt.legend()\n",
        "\n",
        "plt.figure()\n",
        "\n",
        "plt.plot(epochs, loss, 'bo', label='Training loss')\n",
        "plt.plot(epochs, val_loss, 'b', label='Validation loss')\n",
        "plt.title('Training and validation loss')\n",
        "plt.legend()\n",
        "\n",
        "plt.show()"
      ],
      "metadata": {
        "id": "_OOnZvXLiom4"
      },
      "execution_count": null,
      "outputs": []
    },
    {
      "cell_type": "markdown",
      "source": [
        "# 8. 모델 평가"
      ],
      "metadata": {
        "id": "oPRaO6Lsi64l"
      }
    },
    {
      "cell_type": "code",
      "source": [
        "# 테스트 데이터 전처리\n",
        "\n",
        "train_dir = os.path.join(imdb_dir, 'test')\n",
        "\n",
        "labels = [] # y\n",
        "texts = []  # x\n",
        "\n",
        "for label_type in ['neg', 'pos']:\n",
        "    dir_name = os.path.join(train_dir, label_type)                 # 분류 카테고리 별 폴더 경로\n",
        "    if label_type == 'neg':\n",
        "        label = 0\n",
        "    else:\n",
        "        label = 1\n",
        "    for fname in os.listdir(dir_name):\n",
        "        if fname[-4:] == '.txt':\n",
        "            f = open(os.path.join(dir_name, fname), encoding='utf8') # 파일을 하나씩 읽기\n",
        "            texts.append(f.read())                                   # texts 리스트에 추가\n",
        "            f.close()\n",
        "            labels.append(label)                                     # labels 리스트에 추가\n",
        "\n",
        "sequences = tokenizer.texts_to_sequences(texts)\n",
        "x_test = pad_sequences(sequences, maxlen=maxlen)\n",
        "y_test = np.asarray(labels)"
      ],
      "metadata": {
        "id": "bRYfoHTAi9cr"
      },
      "execution_count": null,
      "outputs": []
    },
    {
      "cell_type": "code",
      "source": [
        "model.load_weights('pre_trained_glove_model.h5')\n",
        "model.evaluate(x_test, y_test)"
      ],
      "metadata": {
        "id": "cPird8P7jZHE"
      },
      "execution_count": null,
      "outputs": []
    }
  ]
}