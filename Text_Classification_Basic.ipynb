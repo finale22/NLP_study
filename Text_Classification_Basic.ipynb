{
  "nbformat": 4,
  "nbformat_minor": 0,
  "metadata": {
    "colab": {
      "provenance": [],
      "gpuType": "T4"
    },
    "kernelspec": {
      "name": "python3",
      "display_name": "Python 3"
    },
    "language_info": {
      "name": "python"
    },
    "accelerator": "GPU"
  },
  "cells": [
    {
      "cell_type": "markdown",
      "source": [
        "# 1. 데이터 로드 및 전처리"
      ],
      "metadata": {
        "id": "6ZpzA1NvLAET"
      }
    },
    {
      "cell_type": "code",
      "execution_count": null,
      "metadata": {
        "colab": {
          "base_uri": "https://localhost:8080/"
        },
        "id": "5rdUESCaE_2G",
        "outputId": "66cad906-956b-4b7b-c384-7bfc0a824734"
      },
      "outputs": [
        {
          "output_type": "stream",
          "name": "stdout",
          "text": [
            "Mounted at /content/drive/\n"
          ]
        }
      ],
      "source": [
        "from google.colab import drive\n",
        "drive.mount('/content/drive/')"
      ]
    },
    {
      "cell_type": "code",
      "source": [
        "# IMDB 원본 데이터 전처리\n",
        "import os\n",
        "\n",
        "imdb_dir = '/content/drive/MyDrive/DL/개인공부/aclImdb'\n",
        "train_dir = os.path.join(imdb_dir, 'train')\n",
        "\n",
        "labels = [] # y\n",
        "texts = []  # x\n",
        "\n",
        "for label_type in ['neg', 'pos']:\n",
        "    dir_name = os.path.join(train_dir, label_type)                 # 분류 카테고리 별 폴더 경로\n",
        "    if label_type == 'neg':\n",
        "        label = 0\n",
        "    else:\n",
        "        label = 1\n",
        "    for fname in os.listdir(dir_name):\n",
        "        if fname[-4:] == '.txt':\n",
        "            f = open(os.path.join(dir_name, fname), encoding='utf8') # 파일을 하나씩 읽기\n",
        "            texts.append(f.read())                                   # texts 리스트에 추가\n",
        "            f.close()\n",
        "            labels.append(label)                                     # labels 리스트에 추가"
      ],
      "metadata": {
        "id": "Q_hctcaZVgvQ"
      },
      "execution_count": null,
      "outputs": []
    },
    {
      "cell_type": "code",
      "source": [
        "print(\"text data\")\n",
        "for i in range(5):\n",
        "    print(f\"{texts[i]}: {labels[i]}\\n\")"
      ],
      "metadata": {
        "colab": {
          "base_uri": "https://localhost:8080/"
        },
        "id": "EA2VvSU0tKX6",
        "outputId": "9dd329a6-0d60-47e3-c0a0-01486ca89ac0"
      },
      "execution_count": null,
      "outputs": [
        {
          "output_type": "stream",
          "name": "stdout",
          "text": [
            "text data\n",
            "OK, so I just saw the movie, although it appeared last year... I thought that it was generally a decent movie, except for the storyline, which was stupid and horrible... First of all, we never get to know anything about the creatures, why they appeared, wtf are they doing in our world, and really, have they been on Earth before we were or did they just come from space? Secondly, the role of the butcher to maintain order is just so obviously created... Really, how large could the underground for a sub station could have been? There were only so many of those creatures, so I think instead of killing innocent people in vain, they could have just planted some tactical bombs, or maybe clear the are and a Nuke would have done the job. I know it sounds funny and it is, but I do not see the killing of people as being NECESSARY... Thirdly, Leon acts like Superman jumping on the train and fighting Vinnie Jones, who was way taller and bigger in stature. Then again, when he faces the conductor he does nothing and acts as a wimp, watching all the abominations. I mean OK, the conductor had creepy help(lol), but if Leon was so brave he would have gone all the way... I mean he risks his life first, then does nothing exactly when he should have. He could have died as a hero but lives as a coward... this might be the case, but not after showing so much braveness earlier on... Then, the cop thing... come on! This was a city having a subway, I bet there must have been other cops except that lady, other police stations,this was really kind of silly... All in all, great acting by Vinnie Jones, interesting idea up to the reason behind it which is not really built at all... By the way, what did the signs on the chest mean? Vinnie Jones cannot make up for the rest...: 0\n",
            "\n",
            "This relic of a short film starts with a teen going through the process of attempting to get a driver's license. It quickly becomes sidetracked with just about every imaginable topic relating to cars.<br /><br />Such things as dune buggies, drag racing, custom paint jobs and car shows are discussed. It often attempts to be humorous but instead the film is dull, drawn out and even sexist at times. None of the people in the film are actually heard. Instead, everything is done in narration and voiceovers. Sorry, but I can't stand that.<br /><br />There is nothing educational or interesting about \"Dad, Can I Borrow The Car?\". It's just another piece of mindless filler to take up time on their \"Wonderful World Of Disney\" TV show. 1/10: 0\n",
            "\n",
            "This woman who works as an intern for a photographer goes home and takes a bath where she discovers this hole in the ceiling. So she goes to find out that her neighbor above her is a photographer. This movie could have had a great plot but then the plot drains of any hope. The problem I had with this movie is that every ten seconds, someone is snorting heroin. If they took out the scenes where someone snorts heroin, then this would be a pretty good movie. Every time I thought that a scene was going somewhere, someone inhaled the white powder. It was really lame to have that much drug use in one movie. It pulled attention from the main plot and a great story about a photographer. The lesbian stuff didn't bother me. I was looking for a movie about art. I found a movie about drug use.: 0\n",
            "\n",
            "It's hard to imagine that anyone could find this short their favorite if they have seen most of their shorts, but I know that humor is VERY subjective. I have seen all of their sound shorts (by far the best of their stuff IMO) and I found this one of their weaker efforts.<br /><br />In the year this was made (1930) Stan and Babe made 15 shorts and one feature. They were extremely popular and their boss Hal Roach took full advantage by keeping them working constantly. In addition, this was a time of experimentation for the writers and Stan. I would say this was an experiment that really did not work. As someone else said, it does not play to their strengths. Too much dialog and plot.<br /><br />The best part of this one for me is the largely improvised sequence with Stan as Agnes the maid and the great Thelma Todd talking about \"girl\" stuff.<br /><br />If you really want to see the boys at their most creative and funny check out Blotto, or Brats From the same year.<br /><br />They made so many shorts in such a short time that I think they can be forgiven for turning out a few less then par shorts. They made something like 108 films altogether. Very few (except for the ones made at FOX) were outright failures but there are some. County Hospital, Me And My Pal, The Live Ghost, The Fixer Uppers come to mind as essentially weak ones. But other then those I find something wonderful in just about all their shorts. Quite a record in my book.<br /><br />If you have seen and enjoyed all their other shorts then by all means check this one out, but I would be willing to bet that this one was less then memorable to Stan and Babe.: 0\n",
            "\n",
            "I had high hopes for this film, because I thought CLEAN, SHAVEN (Kerrigan's first feature) was absolutely terrific, the most assuredly cinematic low budget film I'd ever seen.<br /><br />But much of CLAIRE DOLAN is utterly pointless and flat. Scene after scene seems randomly tossed into the mix, without much thought for narrative or character.<br /><br />Is Claire trying to escape being a prostitute or not? Hard to tell. Why does she pick up the trick at the airport if she wants to escape that life? Why does she then not pick up tricks when she needs money in Seattle? Why do we have to see her dye her hair to what is virtually the exact same color? Why does Claire accept some johns and not others? The filmmaker doesn't seem to know.<br /><br />It feels as if everything is improvised (though I understand this wasn't the case) and the filmmakers just held a camera on it as if they were making a verite documentary.<br /><br />After the screening I saw, Kerrigan defended his lack of narrative choices by condemning film narrative as politically conservative. It sounded like learned rhetoric. I think it was a cop-out.<br /><br />I am saddened that the maker of a film as exciting as CLEAN, SHAVEN would go on to make such a lame film as this one and then defend it with tired old \"political\" cliches.: 0\n",
            "\n"
          ]
        }
      ]
    },
    {
      "cell_type": "markdown",
      "source": [
        "# 2. 데이터 토큰화"
      ],
      "metadata": {
        "id": "h5CgATCrqTAV"
      }
    },
    {
      "cell_type": "code",
      "source": [
        "# 텍스트 데이터 토큰화\n",
        "from keras.preprocessing.text import Tokenizer\n",
        "from keras.preprocessing.sequence import pad_sequences\n",
        "import numpy as np\n",
        "\n",
        "maxlen = 100                     # 토큰 개수 맞추기\n",
        "training_samples = 200           # 훈련 샘플 개수\n",
        "validation_samples = 10000       # 검증 샘플 개수\n",
        "max_words = 10000                # 데이터셋에서 가장 빈도 높은 10000개의 단어만 사용\n",
        "\n",
        "tokenizer = Tokenizer(num_words=max_words)\n",
        "tokenizer.fit_on_texts(texts)\n",
        "sequences = tokenizer.texts_to_sequences(texts)\n",
        "\n",
        "word_index = tokenizer.word_index\n",
        "print(f\"고유 토큰 개수: {len(word_index)}\")\n",
        "\n",
        "data = pad_sequences(sequences, maxlen=maxlen) # padding\n",
        "labels = np.asarray(labels)\n",
        "print(f\"데이터 크기: {data.shape}\")\n",
        "print(f\"레이블 크기: {labels.shape}\")\n",
        "\n",
        "indices = np.arange(data.shape[0]) # 데이터 분할 전 섞기 위한 작업\n",
        "np.random.shuffle(indices)         # 섞기\n",
        "data = data[indices]\n",
        "labels = labels[indices]\n",
        "\n",
        "x_train = data[:training_samples]\n",
        "y_train = labels[:training_samples]\n",
        "x_val = data[training_samples:training_samples + validation_samples]\n",
        "y_val = labels[training_samples:training_samples + validation_samples]"
      ],
      "metadata": {
        "colab": {
          "base_uri": "https://localhost:8080/"
        },
        "id": "gvT9OvDUqU1d",
        "outputId": "c7e4ab4c-dcee-4d56-cb63-a1472701ef4f"
      },
      "execution_count": null,
      "outputs": [
        {
          "output_type": "stream",
          "name": "stdout",
          "text": [
            "고유 토큰 개수: 88582\n",
            "데이터 크기: (25000, 100)\n",
            "레이블 크기: (25000,)\n"
          ]
        }
      ]
    },
    {
      "cell_type": "markdown",
      "source": [
        "# 3. GloVe 임베딩 전처리"
      ],
      "metadata": {
        "id": "XVf2M47_xGyV"
      }
    },
    {
      "cell_type": "code",
      "source": [
        "glove_dir = '/content/drive/MyDrive/DL/개인공부'\n",
        "\n",
        "embeddings_index = {}\n",
        "f = open(os.path.join(glove_dir, 'glove.6B.100d.txt'), encoding='utf8')\n",
        "for line in f:\n",
        "    values = line.split()\n",
        "    word = values[0]\n",
        "    coefs = np.asarray(values[1:], dtype='float32')\n",
        "    embeddings_index[word] = coefs\n",
        "f.close()\n",
        "\n",
        "print(f\"단어 벡터 개수: {len(embeddings_index)}\")"
      ],
      "metadata": {
        "colab": {
          "base_uri": "https://localhost:8080/"
        },
        "id": "28oWmc8CxVRP",
        "outputId": "42c8301b-7db6-4889-e386-e495bc13d086"
      },
      "execution_count": null,
      "outputs": [
        {
          "output_type": "stream",
          "name": "stdout",
          "text": [
            "단어 벡터 개수: 400000\n"
          ]
        }
      ]
    },
    {
      "cell_type": "code",
      "source": [
        "# GloVe 단어 임베딩 행렬 준비\n",
        "embedding_dim = 100\n",
        "\n",
        "embedding_matrix = np.zeros((max_words, embedding_dim))\n",
        "for word, i in word_index.items():\n",
        "    if i < max_words:\n",
        "        embedding_vector = embeddings_index.get(word)\n",
        "        if embedding_vector is not None:\n",
        "            embedding_matrix[i] = embedding_vector # 임베딩 인덱스에 없는 단어는 모두 0으로 처리"
      ],
      "metadata": {
        "id": "GN4IkmP76q7I"
      },
      "execution_count": null,
      "outputs": []
    },
    {
      "cell_type": "markdown",
      "source": [
        "# 4. 모델 정의"
      ],
      "metadata": {
        "id": "5ANraGMM51dP"
      }
    },
    {
      "cell_type": "code",
      "source": [
        "from keras.models import Sequential\n",
        "from keras.layers import Embedding, Flatten, Dense\n",
        "\n",
        "model = Sequential()\n",
        "model.add(Embedding(max_words, embedding_dim, input_length=maxlen))\n",
        "model.add(Flatten())\n",
        "model.add(Dense(32, activation='relu'))\n",
        "model.add(Dense(1, activation='sigmoid'))\n",
        "model.summary()"
      ],
      "metadata": {
        "colab": {
          "base_uri": "https://localhost:8080/"
        },
        "id": "YhHSL4bU5zrm",
        "outputId": "9aeec552-e4e3-4a18-fe9a-93413eb5faae"
      },
      "execution_count": null,
      "outputs": [
        {
          "output_type": "stream",
          "name": "stdout",
          "text": [
            "Model: \"sequential\"\n",
            "_________________________________________________________________\n",
            " Layer (type)                Output Shape              Param #   \n",
            "=================================================================\n",
            " embedding (Embedding)       (None, 100, 100)          1000000   \n",
            "                                                                 \n",
            " flatten (Flatten)           (None, 10000)             0         \n",
            "                                                                 \n",
            " dense (Dense)               (None, 32)                320032    \n",
            "                                                                 \n",
            " dense_1 (Dense)             (None, 1)                 33        \n",
            "                                                                 \n",
            "=================================================================\n",
            "Total params: 1320065 (5.04 MB)\n",
            "Trainable params: 1320065 (5.04 MB)\n",
            "Non-trainable params: 0 (0.00 Byte)\n",
            "_________________________________________________________________\n"
          ]
        }
      ]
    },
    {
      "cell_type": "markdown",
      "source": [
        "# 5. 모델에 GloVe 임베딩 로드"
      ],
      "metadata": {
        "id": "qCmJgGyo-v9N"
      }
    },
    {
      "cell_type": "code",
      "source": [
        "# 사전 훈련된 단어 임베딩을 Embedding layer에 로드\n",
        "model.layers[0].set_weights([embedding_matrix])\n",
        "model.layers[0].trainable = False"
      ],
      "metadata": {
        "id": "kHJKwXds-y9d"
      },
      "execution_count": null,
      "outputs": []
    },
    {
      "cell_type": "markdown",
      "source": [
        "# 6. 모델 학습"
      ],
      "metadata": {
        "id": "C98KHQrg_YSs"
      }
    },
    {
      "cell_type": "code",
      "source": [
        "model.compile(optimizer='rmsprop', loss='binary_crossentropy', metrics=['acc'])\n",
        "hist = model.fit(x_train, y_train, epochs=10, batch_size=32, validation_data=(x_val, y_val))\n",
        "model.save_weights('pre_trained_glove_model.h5')"
      ],
      "metadata": {
        "colab": {
          "base_uri": "https://localhost:8080/"
        },
        "id": "DtVOdGfw_aZS",
        "outputId": "b191d0a7-b02c-458e-b0ad-5cb9d9b8a6a8"
      },
      "execution_count": null,
      "outputs": [
        {
          "output_type": "stream",
          "name": "stdout",
          "text": [
            "Epoch 1/10\n",
            "7/7 [==============================] - 4s 159ms/step - loss: 1.4694 - acc: 0.4350 - val_loss: 0.6915 - val_acc: 0.5370\n",
            "Epoch 2/10\n",
            "7/7 [==============================] - 1s 110ms/step - loss: 0.6282 - acc: 0.6850 - val_loss: 0.7685 - val_acc: 0.5066\n",
            "Epoch 3/10\n",
            "7/7 [==============================] - 1s 95ms/step - loss: 0.5858 - acc: 0.7350 - val_loss: 0.7757 - val_acc: 0.5035\n",
            "Epoch 4/10\n",
            "7/7 [==============================] - 1s 112ms/step - loss: 0.4642 - acc: 0.7900 - val_loss: 1.2150 - val_acc: 0.4983\n",
            "Epoch 5/10\n",
            "7/7 [==============================] - 1s 110ms/step - loss: 0.3480 - acc: 0.8650 - val_loss: 1.9406 - val_acc: 0.4937\n",
            "Epoch 6/10\n",
            "7/7 [==============================] - 1s 110ms/step - loss: 0.4189 - acc: 0.8300 - val_loss: 1.2671 - val_acc: 0.4983\n",
            "Epoch 7/10\n",
            "7/7 [==============================] - 1s 92ms/step - loss: 0.1850 - acc: 0.9450 - val_loss: 1.1671 - val_acc: 0.5021\n",
            "Epoch 8/10\n",
            "7/7 [==============================] - 1s 110ms/step - loss: 0.0920 - acc: 0.9800 - val_loss: 1.1313 - val_acc: 0.5280\n",
            "Epoch 9/10\n",
            "7/7 [==============================] - 1s 95ms/step - loss: 0.3552 - acc: 0.8500 - val_loss: 0.8463 - val_acc: 0.5574\n",
            "Epoch 10/10\n",
            "7/7 [==============================] - 1s 110ms/step - loss: 0.0351 - acc: 1.0000 - val_loss: 0.7889 - val_acc: 0.5775\n"
          ]
        }
      ]
    },
    {
      "cell_type": "code",
      "source": [
        "# 그래프\n",
        "import matplotlib.pyplot as plt\n",
        "\n",
        "history = hist.history\n",
        "acc = history['acc']\n",
        "val_acc = history['val_acc']\n",
        "loss = history['loss']\n",
        "val_loss = history['val_loss']\n",
        "\n",
        "epochs = range(1, len(acc) + 1)\n",
        "\n",
        "plt.plot(epochs, acc, 'bo', label='Training acc')\n",
        "plt.plot(epochs, val_acc, 'b', label='Validation acc')\n",
        "plt.title('Training and validation accuracy')\n",
        "plt.legend()\n",
        "\n",
        "plt.figure()\n",
        "\n",
        "plt.plot(epochs, loss, 'bo', label='Training loss')\n",
        "plt.plot(epochs, val_loss, 'b', label='Validation loss')\n",
        "plt.title('Training and validation loss')\n",
        "plt.legend()\n",
        "\n",
        "plt.show()"
      ],
      "metadata": {
        "colab": {
          "base_uri": "https://localhost:8080/",
          "height": 887
        },
        "id": "WhipIvtBd8-H",
        "outputId": "e25fd311-b2b2-44e6-ad7e-2f44f4ad50f7"
      },
      "execution_count": null,
      "outputs": [
        {
          "output_type": "display_data",
          "data": {
            "text/plain": [
              "<Figure size 640x480 with 1 Axes>"
            ],
            "image/png": "[encoded data removed]"
          },
          "metadata": {}
        },
        {
          "output_type": "display_data",
          "data": {
            "text/plain": [
              "<Figure size 640x480 with 1 Axes>"
            ],
            "image/png": "[encoded data removed]"
          },
          "metadata": {}
        }
      ]
    },
    {
      "cell_type": "markdown",
      "source": [
        "### 학습 데이터를 200개만 사용했으므로 Training Accuracy 그래프를 통해 과적합이 빠르게 시작된 것을 확인할 수 있고 Training Accuracy와 Validation Accuracy의 차이 또한 크다.\n",
        "\n",
        "### loss 그래프도 Training loss는 과적합으로 인해 0에 수렴하고 있는 모습을 보이지만 Validation loss는 오히려 10번째 학습에서 값이 크게 튄 모습을 확인할 수 있다.\n",
        "\n",
        "### 이진 분류 모델의 Validation Accuracy가 0.5라는 것은 사실상 답을 맞춘다기 보다 그냥 찍는 수준이고 따라서 현재의 모델은 형편없다고 할 수 있다. 하지만 학습 데이터 개수를 늘리고 Early Stopping을 사용하여 과적합을 방지한다면 성능이 좋아질 것으로 예상된다."
      ],
      "metadata": {
        "id": "VA4lvbjstHzC"
      }
    },
    {
      "cell_type": "markdown",
      "source": [
        "# 7. 사전 훈련된 단어 임베딩을 사용하지 않고 모델 학습"
      ],
      "metadata": {
        "id": "3drW9lv5ipwv"
      }
    },
    {
      "cell_type": "code",
      "source": [
        "# 사전 훈련된 단어 임베딩을 사용하지 않고 같은 모델 학습하기\n",
        "# 사전 훈련된 단어 임베딩을 사용하여 학습하는 것과 사용하지 않고 학습하는 것을 비교\n",
        "from keras.backend import clear_session\n",
        "from keras.models import Sequential\n",
        "from keras.layers import Embedding, Flatten, Dense\n",
        "\n",
        "clear_session()\n",
        "model = Sequential()\n",
        "model.add(Embedding(max_words, embedding_dim, input_length=maxlen))\n",
        "model.add(Flatten())\n",
        "model.add(Dense(32, activation='relu'))\n",
        "model.add(Dense(1, activation='sigmoid'))\n",
        "model.summary()"
      ],
      "metadata": {
        "colab": {
          "base_uri": "https://localhost:8080/"
        },
        "id": "gn6pC252h9cv",
        "outputId": "77592d8e-6349-47e9-8ad8-43a20512f319"
      },
      "execution_count": null,
      "outputs": [
        {
          "output_type": "stream",
          "name": "stdout",
          "text": [
            "Model: \"sequential\"\n",
            "_________________________________________________________________\n",
            " Layer (type)                Output Shape              Param #   \n",
            "=================================================================\n",
            " embedding (Embedding)       (None, 100, 100)          1000000   \n",
            "                                                                 \n",
            " flatten (Flatten)           (None, 10000)             0         \n",
            "                                                                 \n",
            " dense (Dense)               (None, 32)                320032    \n",
            "                                                                 \n",
            " dense_1 (Dense)             (None, 1)                 33        \n",
            "                                                                 \n",
            "=================================================================\n",
            "Total params: 1320065 (5.04 MB)\n",
            "Trainable params: 1320065 (5.04 MB)\n",
            "Non-trainable params: 0 (0.00 Byte)\n",
            "_________________________________________________________________\n"
          ]
        }
      ]
    },
    {
      "cell_type": "code",
      "source": [
        "model.compile(optimizer='rmsprop', loss='binary_crossentropy', metrics=['acc'])\n",
        "hist = model.fit(x_train, y_train, epochs=10, batch_size=32, validation_data=(x_val, y_val))"
      ],
      "metadata": {
        "colab": {
          "base_uri": "https://localhost:8080/"
        },
        "id": "fe-TBGa7igzp",
        "outputId": "7cfa409b-56bc-4c41-dbbb-80b42923db0d"
      },
      "execution_count": null,
      "outputs": [
        {
          "output_type": "stream",
          "name": "stdout",
          "text": [
            "Epoch 1/10\n",
            "7/7 [==============================] - 2s 222ms/step - loss: 0.6922 - acc: 0.4850 - val_loss: 0.6912 - val_acc: 0.5245\n",
            "Epoch 2/10\n",
            "7/7 [==============================] - 1s 212ms/step - loss: 0.5650 - acc: 0.9750 - val_loss: 0.6944 - val_acc: 0.5219\n",
            "Epoch 3/10\n",
            "7/7 [==============================] - 2s 375ms/step - loss: 0.4159 - acc: 0.9750 - val_loss: 0.7023 - val_acc: 0.5230\n",
            "Epoch 4/10\n",
            "7/7 [==============================] - 1s 204ms/step - loss: 0.2576 - acc: 0.9750 - val_loss: 0.7001 - val_acc: 0.5283\n",
            "Epoch 5/10\n",
            "7/7 [==============================] - 1s 193ms/step - loss: 0.1434 - acc: 0.9950 - val_loss: 0.7172 - val_acc: 0.5327\n",
            "Epoch 6/10\n",
            "7/7 [==============================] - 1s 161ms/step - loss: 0.0867 - acc: 0.9900 - val_loss: 0.7219 - val_acc: 0.5266\n",
            "Epoch 7/10\n",
            "7/7 [==============================] - 1s 162ms/step - loss: 0.0508 - acc: 1.0000 - val_loss: 0.7215 - val_acc: 0.5315\n",
            "Epoch 8/10\n",
            "7/7 [==============================] - 1s 194ms/step - loss: 0.0328 - acc: 1.0000 - val_loss: 0.7294 - val_acc: 0.5309\n",
            "Epoch 9/10\n",
            "7/7 [==============================] - 1s 179ms/step - loss: 0.0216 - acc: 1.0000 - val_loss: 0.7366 - val_acc: 0.5313\n",
            "Epoch 10/10\n",
            "7/7 [==============================] - 1s 161ms/step - loss: 0.0152 - acc: 1.0000 - val_loss: 0.7428 - val_acc: 0.5311\n"
          ]
        }
      ]
    },
    {
      "cell_type": "code",
      "source": [
        "# 그래프\n",
        "import matplotlib.pyplot as plt\n",
        "\n",
        "history = hist.history\n",
        "acc = history['acc']\n",
        "val_acc = history['val_acc']\n",
        "loss = history['loss']\n",
        "val_loss = history['val_loss']\n",
        "\n",
        "epochs = range(1, len(acc) + 1)\n",
        "\n",
        "plt.plot(epochs, acc, 'bo', label='Training acc')\n",
        "plt.plot(epochs, val_acc, 'b', label='Validation acc')\n",
        "plt.title('Training and validation accuracy')\n",
        "plt.legend()\n",
        "\n",
        "plt.figure()\n",
        "\n",
        "plt.plot(epochs, loss, 'bo', label='Training loss')\n",
        "plt.plot(epochs, val_loss, 'b', label='Validation loss')\n",
        "plt.title('Training and validation loss')\n",
        "plt.legend()\n",
        "\n",
        "plt.show()"
      ],
      "metadata": {
        "colab": {
          "base_uri": "https://localhost:8080/",
          "height": 887
        },
        "id": "_OOnZvXLiom4",
        "outputId": "52d91da8-570a-46f6-e5ed-c1802e6efc7a"
      },
      "execution_count": null,
      "outputs": [
        {
          "output_type": "display_data",
          "data": {
            "text/plain": [
              "<Figure size 640x480 with 1 Axes>"
            ],
            "image/png": "[encoded data removed]"
          },
          "metadata": {}
        },
        {
          "output_type": "display_data",
          "data": {
            "text/plain": [
              "<Figure size 640x480 with 1 Axes>"
            ],
            "image/png": "[encoded data removed]"
          },
          "metadata": {}
        }
      ]
    },
    {
      "cell_type": "markdown",
      "source": [
        "### 2번째 학습부터 Training Accuracy가 1에 가까워지는 과적합 성향을 보인다. 그리고 Validation Accuracy는 0.5에 계속 머물러있다.\n",
        "\n",
        "### Training loss는 우하향하고 있으나 Validation loss는 오히려 높아지고 있어 이 모델 또한 매우 좋지 않은 모델이라고 할 수 있다."
      ],
      "metadata": {
        "id": "cAjkDdVVw60d"
      }
    },
    {
      "cell_type": "markdown",
      "source": [
        "# 8. 모델 평가"
      ],
      "metadata": {
        "id": "oPRaO6Lsi64l"
      }
    },
    {
      "cell_type": "code",
      "source": [
        "# 테스트 데이터 전처리\n",
        "\n",
        "train_dir = os.path.join(imdb_dir, 'test')\n",
        "\n",
        "labels = [] # y\n",
        "texts = []  # x\n",
        "\n",
        "for label_type in ['neg', 'pos']:\n",
        "    dir_name = os.path.join(train_dir, label_type)                 # 분류 카테고리 별 폴더 경로\n",
        "    if label_type == 'neg':\n",
        "        label = 0\n",
        "    else:\n",
        "        label = 1\n",
        "    for fname in os.listdir(dir_name):\n",
        "        if fname[-4:] == '.txt':\n",
        "            f = open(os.path.join(dir_name, fname), encoding='utf8') # 파일을 하나씩 읽기\n",
        "            texts.append(f.read())                                   # texts 리스트에 추가\n",
        "            f.close()\n",
        "            labels.append(label)                                     # labels 리스트에 추가\n",
        "\n",
        "sequences = tokenizer.texts_to_sequences(texts)\n",
        "x_test = pad_sequences(sequences, maxlen=maxlen)\n",
        "y_test = np.asarray(labels)"
      ],
      "metadata": {
        "id": "bRYfoHTAi9cr"
      },
      "execution_count": null,
      "outputs": []
    },
    {
      "cell_type": "code",
      "source": [
        "# 사전 학습된 임베딩을 사용한 모델의 성능 평가\n",
        "model.load_weights('pre_trained_glove_model.h5')\n",
        "model.evaluate(x_test, y_test)"
      ],
      "metadata": {
        "colab": {
          "base_uri": "https://localhost:8080/"
        },
        "id": "cPird8P7jZHE",
        "outputId": "87c814ef-7a6d-46b3-bd0d-b8b4ed6c05ba"
      },
      "execution_count": null,
      "outputs": [
        {
          "output_type": "stream",
          "name": "stdout",
          "text": [
            "782/782 [==============================] - 2s 2ms/step - loss: 0.7987 - acc: 0.5746\n"
          ]
        },
        {
          "output_type": "execute_result",
          "data": {
            "text/plain": [
              "[0.798652708530426, 0.5745599865913391]"
            ]
          },
          "metadata": {},
          "execution_count": 15
        }
      ]
    },
    {
      "cell_type": "markdown",
      "source": [
        "### 앞서 사전 학습된 임베딩을 사용한 모델의 Validation Accuracy에서도 확인할 수 있듯이 테스트 정확도는 0.5로 성능이 매우 좋지 않은 모델이다.\n",
        "\n",
        "### 적은 수의 훈련 샘플로 작업하는 것은 어려운 일이다. 하지만 학습 데이터를 늘려본다면..."
      ],
      "metadata": {
        "id": "h4QrQtG75Sry"
      }
    }
  ]
}