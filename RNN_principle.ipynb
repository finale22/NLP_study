{
 "cells": [
  {
   "cell_type": "markdown",
   "metadata": {
    "id": "ybSc0Y0rSyY8"
   },
   "source": [
    "# 1. pseudocode로 표현한 RNN"
   ]
  },
  {
   "cell_type": "code",
   "execution_count": null,
   "metadata": {
    "id": "GKQy-LvJSih7"
   },
   "outputs": [],
   "source": [
    "# 간단한 pseudocode로 표현한 RNN\n",
    "\n",
    "state_t = 0 # 상태, 이전 단계의 출력 값\n",
    "for input_t in input_sequence:\n",
    "    output_t = f(input_t, state_t) # 이전 단계의 출력 값과 현재 단계의 input을 결합하여 연산\n",
    "    state_t = output_t             # 연산 결과는 다음 단계에서 이전 단계의 출력 값 역할"
   ]
  },
  {
   "cell_type": "code",
   "execution_count": null,
   "metadata": {
    "id": "r_DjDRM_UtF-"
   },
   "outputs": [],
   "source": [
    "# 더 자세한 pseudocode로 표현한 RNN\n",
    "\n",
    "state_t = 0 # 상태, 이전 단계의 출력 값\n",
    "for input_t in input_sequence:\n",
    "     # W와 입력 벡터 간 행렬곱, U와 이전 단계의 은닉 상태 간 행렬곱, 편향 벡터를 활성화 함수에 입력하여 출력 값 계산\n",
    "    output_t = activation(dot(W, input_t) + dot(U, state_t) + b)\n",
    "    state_t = output_t"
   ]
  },
  {
   "cell_type": "code",
   "execution_count": null,
   "metadata": {
    "colab": {
     "base_uri": "https://localhost:8080/"
    },
    "id": "JEWmrdF_XNA0",
    "outputId": "0d35d4ac-85ff-4270-9e4b-927b5090739b"
   },
   "outputs": [
    {
     "name": "stdout",
     "output_type": "stream",
     "text": [
      "inputs shape: (100, 32)\n",
      "W shape: (64, 32)\n",
      "input_t shape: (32,)\n",
      "W x input_t: (64,)\n",
      "\n",
      "U shape: (64, 64)\n",
      "state_t shape: (64,)\n",
      "U x state_t: (64,)\n",
      "\n",
      "b shape: (64,)\n",
      "\n",
      "0번째 은닉층 출력: (64,)\n",
      "1번째 은닉층 출력: (64,)\n",
      "2번째 은닉층 출력: (64,)\n",
      "3번째 은닉층 출력: (64,)\n",
      "4번째 은닉층 출력: (64,)\n",
      "5번째 은닉층 출력: (64,)\n",
      "...\n",
      "\n",
      "95번째 은닉층 출력: (64,)\n",
      "96번째 은닉층 출력: (64,)\n",
      "97번째 은닉층 출력: (64,)\n",
      "98번째 은닉층 출력: (64,)\n",
      "99번째 은닉층 출력: (64,)\n",
      "최종 출력: (100, 64)\n"
     ]
    }
   ],
   "source": [
    "# Numpy로 구현한 간단한 RNN\n",
    "\n",
    "import numpy as np\n",
    "\n",
    "timesteps = 100 # 입력 시퀀스에 있는 타임 스텝의 수\n",
    "input_features = 32 # 입력 특성의 차원\n",
    "output_features = 64 # 출력 특성의 차원\n",
    "\n",
    "inputs = np.random.random((timesteps, input_features)) # 입력 데이터, (timesteps, input_features)인 2D 텐서로 인코딩된 벡터\n",
    "state_t = np.zeros((output_features,))                 # 초기 상태, 모두 0인 벡터\n",
    "print(f\"inputs shape: {inputs.shape}\")\n",
    "\n",
    "# 랜덤한 가중치 행렬\n",
    "W = np.random.random((output_features, input_features))\n",
    "U = np.random.random((output_features, output_features))\n",
    "b = np.random.random((output_features,))\n",
    "\n",
    "print(f\"W shape: {W.shape}\")\n",
    "print(f\"input_t shape: {inputs[0].shape}\")\n",
    "print(f\"W x input_t: {np.dot(W, inputs[0]).shape}\\n\")\n",
    "print(f\"U shape: {U.shape}\")\n",
    "print(f\"state_t shape: {state_t.shape}\")\n",
    "print(f\"U x state_t: {np.dot(U, state_t).shape}\\n\")\n",
    "print(f\"b shape: {b.shape}\\n\")\n",
    "\n",
    "successive_outputs = []\n",
    "for idx, input_t in enumerate(inputs):\n",
    "    output_t = np.tanh(np.dot(W, input_t) + np.dot(U, state_t) + b) # 입력과 이전의 출력을 연결하여 현재 출력 계산\n",
    "    successive_outputs.append(output_t)                             # 현재 출력 값 저장\n",
    "    if (idx <= 5) | (idx >= 95):\n",
    "        print(f\"{idx}번째 은닉층 출력: {output_t.shape}\")\n",
    "    if (idx == 50):\n",
    "        print(\"...\\n\")\n",
    "    state_t = output_t                                              # 다음 타임스텝을 위해 네트워크 상태 업데이트\n",
    "\n",
    "final_output_sequence = np.stack(successive_outputs, axis=0) # 최종 출력은 크기가 (timesteps, output_features)인 2D 텐서\n",
    "print(f\"최종 출력: {final_output_sequence.shape}\")"
   ]
  }
 ],
 "metadata": {
  "colab": {
   "provenance": []
  },
  "kernelspec": {
   "display_name": "Python 3 (ipykernel)",
   "language": "python",
   "name": "python3"
  },
  "language_info": {
   "codemirror_mode": {
    "name": "ipython",
    "version": 3
   },
   "file_extension": ".py",
   "mimetype": "text/x-python",
   "name": "python",
   "nbconvert_exporter": "python",
   "pygments_lexer": "ipython3",
   "version": "3.8.10"
  }
 },
 "nbformat": 4,
 "nbformat_minor": 1
}
